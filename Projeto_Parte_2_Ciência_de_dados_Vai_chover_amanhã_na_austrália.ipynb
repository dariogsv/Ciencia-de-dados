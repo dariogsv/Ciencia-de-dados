{
  "nbformat": 4,
  "nbformat_minor": 0,
  "metadata": {
    "colab": {
      "name": "Projeto: Parte 2 - Ciência de dados - Vai chover amanhã na austrália?.ipynb",
      "provenance": [],
      "collapsed_sections": []
    },
    "kernelspec": {
      "name": "python3",
      "display_name": "Python 3"
    },
    "language_info": {
      "name": "python"
    }
  },
  "cells": [
    {
      "cell_type": "markdown",
      "metadata": {
        "id": "NgYIH7sSGdpb"
      },
      "source": [
        "# Introdução"
      ]
    },
    {
      "cell_type": "markdown",
      "metadata": {
        "id": "61vEhWQdGleo"
      },
      "source": [
        "Nos dados que usamos na primeira parte do projeto os experimentos se mostraram frustrantes, dado que as amostras eram muito homogêneas para quaisquer variáveis que nos interessavam. Creditamos boa parte desse problema ao TRI (Teoria de Resposta ao Item do ENEM) que não distribui as notas de forma diretamente proporcional aos acertos. \n",
        "Resolvemos então trazer um novo dataset para essa segunda parte, esta que depende muito da segmentação dos grupos de dados. O dataset que utilazaremos apresenta dados de humidade, velocidade do vento, entre outras features para previsão de chuva. Utilizaremos mais especificamente os dados de umidade às 9am e 3pm com o objetivo de prever a chuva do dia corrente."
      ]
    },
    {
      "cell_type": "code",
      "metadata": {
        "id": "8Zn92krPfBmQ",
        "colab": {
          "base_uri": "https://localhost:8080/",
          "height": 309
        },
        "outputId": "7eff0163-75f7-4d28-f5b6-94986ace977f"
      },
      "source": [
        "import pandas as pd\n",
        "std = pd.read_csv(\"https://raw.githubusercontent.com/dariogsv/Ciencia-de-dados/main/weatherAUS.csv\")\n",
        "std.head()"
      ],
      "execution_count": 3,
      "outputs": [
        {
          "output_type": "execute_result",
          "data": {
            "text/html": [
              "<div>\n",
              "<style scoped>\n",
              "    .dataframe tbody tr th:only-of-type {\n",
              "        vertical-align: middle;\n",
              "    }\n",
              "\n",
              "    .dataframe tbody tr th {\n",
              "        vertical-align: top;\n",
              "    }\n",
              "\n",
              "    .dataframe thead th {\n",
              "        text-align: right;\n",
              "    }\n",
              "</style>\n",
              "<table border=\"1\" class=\"dataframe\">\n",
              "  <thead>\n",
              "    <tr style=\"text-align: right;\">\n",
              "      <th></th>\n",
              "      <th>Date</th>\n",
              "      <th>Location</th>\n",
              "      <th>MinTemp</th>\n",
              "      <th>MaxTemp</th>\n",
              "      <th>Rainfall</th>\n",
              "      <th>Evaporation</th>\n",
              "      <th>Sunshine</th>\n",
              "      <th>WindGustDir</th>\n",
              "      <th>WindGustSpeed</th>\n",
              "      <th>WindDir9am</th>\n",
              "      <th>WindDir3pm</th>\n",
              "      <th>WindSpeed9am</th>\n",
              "      <th>WindSpeed3pm</th>\n",
              "      <th>Humidity9am</th>\n",
              "      <th>Humidity3pm</th>\n",
              "      <th>Pressure9am</th>\n",
              "      <th>Pressure3pm</th>\n",
              "      <th>Cloud9am</th>\n",
              "      <th>Cloud3pm</th>\n",
              "      <th>Temp9am</th>\n",
              "      <th>Temp3pm</th>\n",
              "      <th>RainToday</th>\n",
              "      <th>RainTomorrow</th>\n",
              "    </tr>\n",
              "  </thead>\n",
              "  <tbody>\n",
              "    <tr>\n",
              "      <th>0</th>\n",
              "      <td>2008-12-01</td>\n",
              "      <td>Albury</td>\n",
              "      <td>13.4</td>\n",
              "      <td>22.9</td>\n",
              "      <td>0.6</td>\n",
              "      <td>NaN</td>\n",
              "      <td>NaN</td>\n",
              "      <td>W</td>\n",
              "      <td>44.0</td>\n",
              "      <td>W</td>\n",
              "      <td>WNW</td>\n",
              "      <td>20.0</td>\n",
              "      <td>24.0</td>\n",
              "      <td>71.0</td>\n",
              "      <td>22.0</td>\n",
              "      <td>1007.7</td>\n",
              "      <td>1007.1</td>\n",
              "      <td>8.0</td>\n",
              "      <td>NaN</td>\n",
              "      <td>16.9</td>\n",
              "      <td>21.8</td>\n",
              "      <td>No</td>\n",
              "      <td>No</td>\n",
              "    </tr>\n",
              "    <tr>\n",
              "      <th>1</th>\n",
              "      <td>2008-12-02</td>\n",
              "      <td>Albury</td>\n",
              "      <td>7.4</td>\n",
              "      <td>25.1</td>\n",
              "      <td>0.0</td>\n",
              "      <td>NaN</td>\n",
              "      <td>NaN</td>\n",
              "      <td>WNW</td>\n",
              "      <td>44.0</td>\n",
              "      <td>NNW</td>\n",
              "      <td>WSW</td>\n",
              "      <td>4.0</td>\n",
              "      <td>22.0</td>\n",
              "      <td>44.0</td>\n",
              "      <td>25.0</td>\n",
              "      <td>1010.6</td>\n",
              "      <td>1007.8</td>\n",
              "      <td>NaN</td>\n",
              "      <td>NaN</td>\n",
              "      <td>17.2</td>\n",
              "      <td>24.3</td>\n",
              "      <td>No</td>\n",
              "      <td>No</td>\n",
              "    </tr>\n",
              "    <tr>\n",
              "      <th>2</th>\n",
              "      <td>2008-12-03</td>\n",
              "      <td>Albury</td>\n",
              "      <td>12.9</td>\n",
              "      <td>25.7</td>\n",
              "      <td>0.0</td>\n",
              "      <td>NaN</td>\n",
              "      <td>NaN</td>\n",
              "      <td>WSW</td>\n",
              "      <td>46.0</td>\n",
              "      <td>W</td>\n",
              "      <td>WSW</td>\n",
              "      <td>19.0</td>\n",
              "      <td>26.0</td>\n",
              "      <td>38.0</td>\n",
              "      <td>30.0</td>\n",
              "      <td>1007.6</td>\n",
              "      <td>1008.7</td>\n",
              "      <td>NaN</td>\n",
              "      <td>2.0</td>\n",
              "      <td>21.0</td>\n",
              "      <td>23.2</td>\n",
              "      <td>No</td>\n",
              "      <td>No</td>\n",
              "    </tr>\n",
              "    <tr>\n",
              "      <th>3</th>\n",
              "      <td>2008-12-04</td>\n",
              "      <td>Albury</td>\n",
              "      <td>9.2</td>\n",
              "      <td>28.0</td>\n",
              "      <td>0.0</td>\n",
              "      <td>NaN</td>\n",
              "      <td>NaN</td>\n",
              "      <td>NE</td>\n",
              "      <td>24.0</td>\n",
              "      <td>SE</td>\n",
              "      <td>E</td>\n",
              "      <td>11.0</td>\n",
              "      <td>9.0</td>\n",
              "      <td>45.0</td>\n",
              "      <td>16.0</td>\n",
              "      <td>1017.6</td>\n",
              "      <td>1012.8</td>\n",
              "      <td>NaN</td>\n",
              "      <td>NaN</td>\n",
              "      <td>18.1</td>\n",
              "      <td>26.5</td>\n",
              "      <td>No</td>\n",
              "      <td>No</td>\n",
              "    </tr>\n",
              "    <tr>\n",
              "      <th>4</th>\n",
              "      <td>2008-12-05</td>\n",
              "      <td>Albury</td>\n",
              "      <td>17.5</td>\n",
              "      <td>32.3</td>\n",
              "      <td>1.0</td>\n",
              "      <td>NaN</td>\n",
              "      <td>NaN</td>\n",
              "      <td>W</td>\n",
              "      <td>41.0</td>\n",
              "      <td>ENE</td>\n",
              "      <td>NW</td>\n",
              "      <td>7.0</td>\n",
              "      <td>20.0</td>\n",
              "      <td>82.0</td>\n",
              "      <td>33.0</td>\n",
              "      <td>1010.8</td>\n",
              "      <td>1006.0</td>\n",
              "      <td>7.0</td>\n",
              "      <td>8.0</td>\n",
              "      <td>17.8</td>\n",
              "      <td>29.7</td>\n",
              "      <td>No</td>\n",
              "      <td>No</td>\n",
              "    </tr>\n",
              "  </tbody>\n",
              "</table>\n",
              "</div>"
            ],
            "text/plain": [
              "         Date Location  MinTemp  ...  Temp3pm  RainToday  RainTomorrow\n",
              "0  2008-12-01   Albury     13.4  ...     21.8         No            No\n",
              "1  2008-12-02   Albury      7.4  ...     24.3         No            No\n",
              "2  2008-12-03   Albury     12.9  ...     23.2         No            No\n",
              "3  2008-12-04   Albury      9.2  ...     26.5         No            No\n",
              "4  2008-12-05   Albury     17.5  ...     29.7         No            No\n",
              "\n",
              "[5 rows x 23 columns]"
            ]
          },
          "metadata": {
            "tags": []
          },
          "execution_count": 3
        }
      ]
    },
    {
      "cell_type": "code",
      "metadata": {
        "id": "ckSI2triiaJk",
        "colab": {
          "base_uri": "https://localhost:8080/"
        },
        "outputId": "175ad7d8-f6d9-440c-dc67-1e91044e297b"
      },
      "source": [
        "std = std.dropna()\n",
        "std.isna().sum()"
      ],
      "execution_count": 4,
      "outputs": [
        {
          "output_type": "execute_result",
          "data": {
            "text/plain": [
              "Date             0\n",
              "Location         0\n",
              "MinTemp          0\n",
              "MaxTemp          0\n",
              "Rainfall         0\n",
              "Evaporation      0\n",
              "Sunshine         0\n",
              "WindGustDir      0\n",
              "WindGustSpeed    0\n",
              "WindDir9am       0\n",
              "WindDir3pm       0\n",
              "WindSpeed9am     0\n",
              "WindSpeed3pm     0\n",
              "Humidity9am      0\n",
              "Humidity3pm      0\n",
              "Pressure9am      0\n",
              "Pressure3pm      0\n",
              "Cloud9am         0\n",
              "Cloud3pm         0\n",
              "Temp9am          0\n",
              "Temp3pm          0\n",
              "RainToday        0\n",
              "RainTomorrow     0\n",
              "dtype: int64"
            ]
          },
          "metadata": {
            "tags": []
          },
          "execution_count": 4
        }
      ]
    },
    {
      "cell_type": "code",
      "metadata": {
        "id": "R-Udv548gFT7",
        "colab": {
          "base_uri": "https://localhost:8080/",
          "height": 596
        },
        "outputId": "01ce19d0-f6a1-4f42-99b9-1bea1e49d574"
      },
      "source": [
        "std.RainToday = std.RainToday.astype('category').cat.codes\n",
        "std.corr()"
      ],
      "execution_count": 5,
      "outputs": [
        {
          "output_type": "execute_result",
          "data": {
            "text/html": [
              "<div>\n",
              "<style scoped>\n",
              "    .dataframe tbody tr th:only-of-type {\n",
              "        vertical-align: middle;\n",
              "    }\n",
              "\n",
              "    .dataframe tbody tr th {\n",
              "        vertical-align: top;\n",
              "    }\n",
              "\n",
              "    .dataframe thead th {\n",
              "        text-align: right;\n",
              "    }\n",
              "</style>\n",
              "<table border=\"1\" class=\"dataframe\">\n",
              "  <thead>\n",
              "    <tr style=\"text-align: right;\">\n",
              "      <th></th>\n",
              "      <th>MinTemp</th>\n",
              "      <th>MaxTemp</th>\n",
              "      <th>Rainfall</th>\n",
              "      <th>Evaporation</th>\n",
              "      <th>Sunshine</th>\n",
              "      <th>WindGustSpeed</th>\n",
              "      <th>WindSpeed9am</th>\n",
              "      <th>WindSpeed3pm</th>\n",
              "      <th>Humidity9am</th>\n",
              "      <th>Humidity3pm</th>\n",
              "      <th>Pressure9am</th>\n",
              "      <th>Pressure3pm</th>\n",
              "      <th>Cloud9am</th>\n",
              "      <th>Cloud3pm</th>\n",
              "      <th>Temp9am</th>\n",
              "      <th>Temp3pm</th>\n",
              "      <th>RainToday</th>\n",
              "    </tr>\n",
              "  </thead>\n",
              "  <tbody>\n",
              "    <tr>\n",
              "      <th>MinTemp</th>\n",
              "      <td>1.000000</td>\n",
              "      <td>0.749687</td>\n",
              "      <td>0.110800</td>\n",
              "      <td>0.506764</td>\n",
              "      <td>0.076087</td>\n",
              "      <td>0.118054</td>\n",
              "      <td>0.108522</td>\n",
              "      <td>0.137273</td>\n",
              "      <td>-0.174991</td>\n",
              "      <td>0.070827</td>\n",
              "      <td>-0.475661</td>\n",
              "      <td>-0.495577</td>\n",
              "      <td>0.106177</td>\n",
              "      <td>0.042173</td>\n",
              "      <td>0.906295</td>\n",
              "      <td>0.727222</td>\n",
              "      <td>0.048953</td>\n",
              "    </tr>\n",
              "    <tr>\n",
              "      <th>MaxTemp</th>\n",
              "      <td>0.749687</td>\n",
              "      <td>1.000000</td>\n",
              "      <td>-0.069981</td>\n",
              "      <td>0.650964</td>\n",
              "      <td>0.463913</td>\n",
              "      <td>0.035531</td>\n",
              "      <td>-0.008171</td>\n",
              "      <td>0.012266</td>\n",
              "      <td>-0.495781</td>\n",
              "      <td>-0.448116</td>\n",
              "      <td>-0.350980</td>\n",
              "      <td>-0.451691</td>\n",
              "      <td>-0.263634</td>\n",
              "      <td>-0.257752</td>\n",
              "      <td>0.893387</td>\n",
              "      <td>0.984841</td>\n",
              "      <td>-0.221810</td>\n",
              "    </tr>\n",
              "    <tr>\n",
              "      <th>Rainfall</th>\n",
              "      <td>0.110800</td>\n",
              "      <td>-0.069981</td>\n",
              "      <td>1.000000</td>\n",
              "      <td>-0.077239</td>\n",
              "      <td>-0.246379</td>\n",
              "      <td>0.106308</td>\n",
              "      <td>0.050584</td>\n",
              "      <td>0.044112</td>\n",
              "      <td>0.263625</td>\n",
              "      <td>0.277625</td>\n",
              "      <td>-0.180606</td>\n",
              "      <td>-0.137302</td>\n",
              "      <td>0.217169</td>\n",
              "      <td>0.191433</td>\n",
              "      <td>0.013713</td>\n",
              "      <td>-0.074627</td>\n",
              "      <td>0.550515</td>\n",
              "    </tr>\n",
              "    <tr>\n",
              "      <th>Evaporation</th>\n",
              "      <td>0.506764</td>\n",
              "      <td>0.650964</td>\n",
              "      <td>-0.077239</td>\n",
              "      <td>1.000000</td>\n",
              "      <td>0.369250</td>\n",
              "      <td>0.209566</td>\n",
              "      <td>0.193154</td>\n",
              "      <td>0.124345</td>\n",
              "      <td>-0.554232</td>\n",
              "      <td>-0.422436</td>\n",
              "      <td>-0.297319</td>\n",
              "      <td>-0.325954</td>\n",
              "      <td>-0.199809</td>\n",
              "      <td>-0.202366</td>\n",
              "      <td>0.593122</td>\n",
              "      <td>0.630727</td>\n",
              "      <td>-0.218079</td>\n",
              "    </tr>\n",
              "    <tr>\n",
              "      <th>Sunshine</th>\n",
              "      <td>0.076087</td>\n",
              "      <td>0.463913</td>\n",
              "      <td>-0.246379</td>\n",
              "      <td>0.369250</td>\n",
              "      <td>1.000000</td>\n",
              "      <td>-0.052422</td>\n",
              "      <td>-0.013842</td>\n",
              "      <td>0.029200</td>\n",
              "      <td>-0.500343</td>\n",
              "      <td>-0.629299</td>\n",
              "      <td>0.043330</td>\n",
              "      <td>-0.020632</td>\n",
              "      <td>-0.677939</td>\n",
              "      <td>-0.702022</td>\n",
              "      <td>0.289038</td>\n",
              "      <td>0.486129</td>\n",
              "      <td>-0.328904</td>\n",
              "    </tr>\n",
              "    <tr>\n",
              "      <th>WindGustSpeed</th>\n",
              "      <td>0.118054</td>\n",
              "      <td>0.035531</td>\n",
              "      <td>0.106308</td>\n",
              "      <td>0.209566</td>\n",
              "      <td>-0.052422</td>\n",
              "      <td>1.000000</td>\n",
              "      <td>0.608852</td>\n",
              "      <td>0.685236</td>\n",
              "      <td>-0.193410</td>\n",
              "      <td>-0.042653</td>\n",
              "      <td>-0.430363</td>\n",
              "      <td>-0.383683</td>\n",
              "      <td>0.088129</td>\n",
              "      <td>0.131590</td>\n",
              "      <td>0.085520</td>\n",
              "      <td>-0.000382</td>\n",
              "      <td>0.146276</td>\n",
              "    </tr>\n",
              "    <tr>\n",
              "      <th>WindSpeed9am</th>\n",
              "      <td>0.108522</td>\n",
              "      <td>-0.008171</td>\n",
              "      <td>0.050584</td>\n",
              "      <td>0.193154</td>\n",
              "      <td>-0.013842</td>\n",
              "      <td>0.608852</td>\n",
              "      <td>1.000000</td>\n",
              "      <td>0.502226</td>\n",
              "      <td>-0.236795</td>\n",
              "      <td>-0.058449</td>\n",
              "      <td>-0.201518</td>\n",
              "      <td>-0.155484</td>\n",
              "      <td>0.034908</td>\n",
              "      <td>0.062507</td>\n",
              "      <td>0.053749</td>\n",
              "      <td>-0.018357</td>\n",
              "      <td>0.083125</td>\n",
              "    </tr>\n",
              "    <tr>\n",
              "      <th>WindSpeed3pm</th>\n",
              "      <td>0.137273</td>\n",
              "      <td>0.012266</td>\n",
              "      <td>0.044112</td>\n",
              "      <td>0.124345</td>\n",
              "      <td>0.029200</td>\n",
              "      <td>0.685236</td>\n",
              "      <td>0.502226</td>\n",
              "      <td>1.000000</td>\n",
              "      <td>-0.100626</td>\n",
              "      <td>0.031843</td>\n",
              "      <td>-0.293155</td>\n",
              "      <td>-0.252095</td>\n",
              "      <td>0.068224</td>\n",
              "      <td>0.041475</td>\n",
              "      <td>0.114043</td>\n",
              "      <td>-0.009436</td>\n",
              "      <td>0.085627</td>\n",
              "    </tr>\n",
              "    <tr>\n",
              "      <th>Humidity9am</th>\n",
              "      <td>-0.174991</td>\n",
              "      <td>-0.495781</td>\n",
              "      <td>0.263625</td>\n",
              "      <td>-0.554232</td>\n",
              "      <td>-0.500343</td>\n",
              "      <td>-0.193410</td>\n",
              "      <td>-0.236795</td>\n",
              "      <td>-0.100626</td>\n",
              "      <td>1.000000</td>\n",
              "      <td>0.685697</td>\n",
              "      <td>0.114575</td>\n",
              "      <td>0.172972</td>\n",
              "      <td>0.438962</td>\n",
              "      <td>0.348707</td>\n",
              "      <td>-0.423598</td>\n",
              "      <td>-0.487758</td>\n",
              "      <td>0.379451</td>\n",
              "    </tr>\n",
              "    <tr>\n",
              "      <th>Humidity3pm</th>\n",
              "      <td>0.070827</td>\n",
              "      <td>-0.448116</td>\n",
              "      <td>0.277625</td>\n",
              "      <td>-0.422436</td>\n",
              "      <td>-0.629299</td>\n",
              "      <td>-0.042653</td>\n",
              "      <td>-0.058449</td>\n",
              "      <td>0.031843</td>\n",
              "      <td>0.685697</td>\n",
              "      <td>1.000000</td>\n",
              "      <td>-0.063454</td>\n",
              "      <td>0.024109</td>\n",
              "      <td>0.509223</td>\n",
              "      <td>0.510996</td>\n",
              "      <td>-0.151614</td>\n",
              "      <td>-0.497245</td>\n",
              "      <td>0.385440</td>\n",
              "    </tr>\n",
              "    <tr>\n",
              "      <th>Pressure9am</th>\n",
              "      <td>-0.475661</td>\n",
              "      <td>-0.350980</td>\n",
              "      <td>-0.180606</td>\n",
              "      <td>-0.297319</td>\n",
              "      <td>0.043330</td>\n",
              "      <td>-0.430363</td>\n",
              "      <td>-0.201518</td>\n",
              "      <td>-0.293155</td>\n",
              "      <td>0.114575</td>\n",
              "      <td>-0.063454</td>\n",
              "      <td>1.000000</td>\n",
              "      <td>0.961538</td>\n",
              "      <td>-0.150427</td>\n",
              "      <td>-0.166334</td>\n",
              "      <td>-0.443410</td>\n",
              "      <td>-0.310774</td>\n",
              "      <td>-0.186848</td>\n",
              "    </tr>\n",
              "    <tr>\n",
              "      <th>Pressure3pm</th>\n",
              "      <td>-0.495577</td>\n",
              "      <td>-0.451691</td>\n",
              "      <td>-0.137302</td>\n",
              "      <td>-0.325954</td>\n",
              "      <td>-0.020632</td>\n",
              "      <td>-0.383683</td>\n",
              "      <td>-0.155484</td>\n",
              "      <td>-0.252095</td>\n",
              "      <td>0.172972</td>\n",
              "      <td>0.024109</td>\n",
              "      <td>0.961538</td>\n",
              "      <td>1.000000</td>\n",
              "      <td>-0.081791</td>\n",
              "      <td>-0.103173</td>\n",
              "      <td>-0.500509</td>\n",
              "      <td>-0.421318</td>\n",
              "      <td>-0.104103</td>\n",
              "    </tr>\n",
              "    <tr>\n",
              "      <th>Cloud9am</th>\n",
              "      <td>0.106177</td>\n",
              "      <td>-0.263634</td>\n",
              "      <td>0.217169</td>\n",
              "      <td>-0.199809</td>\n",
              "      <td>-0.677939</td>\n",
              "      <td>0.088129</td>\n",
              "      <td>0.034908</td>\n",
              "      <td>0.068224</td>\n",
              "      <td>0.438962</td>\n",
              "      <td>0.509223</td>\n",
              "      <td>-0.150427</td>\n",
              "      <td>-0.081791</td>\n",
              "      <td>1.000000</td>\n",
              "      <td>0.614380</td>\n",
              "      <td>-0.109591</td>\n",
              "      <td>-0.281213</td>\n",
              "      <td>0.297794</td>\n",
              "    </tr>\n",
              "    <tr>\n",
              "      <th>Cloud3pm</th>\n",
              "      <td>0.042173</td>\n",
              "      <td>-0.257752</td>\n",
              "      <td>0.191433</td>\n",
              "      <td>-0.202366</td>\n",
              "      <td>-0.702022</td>\n",
              "      <td>0.131590</td>\n",
              "      <td>0.062507</td>\n",
              "      <td>0.041475</td>\n",
              "      <td>0.348707</td>\n",
              "      <td>0.510996</td>\n",
              "      <td>-0.166334</td>\n",
              "      <td>-0.103173</td>\n",
              "      <td>0.614380</td>\n",
              "      <td>1.000000</td>\n",
              "      <td>-0.107885</td>\n",
              "      <td>-0.297230</td>\n",
              "      <td>0.272034</td>\n",
              "    </tr>\n",
              "    <tr>\n",
              "      <th>Temp9am</th>\n",
              "      <td>0.906295</td>\n",
              "      <td>0.893387</td>\n",
              "      <td>0.013713</td>\n",
              "      <td>0.593122</td>\n",
              "      <td>0.289038</td>\n",
              "      <td>0.085520</td>\n",
              "      <td>0.053749</td>\n",
              "      <td>0.114043</td>\n",
              "      <td>-0.423598</td>\n",
              "      <td>-0.151614</td>\n",
              "      <td>-0.443410</td>\n",
              "      <td>-0.500509</td>\n",
              "      <td>-0.109591</td>\n",
              "      <td>-0.107885</td>\n",
              "      <td>1.000000</td>\n",
              "      <td>0.870620</td>\n",
              "      <td>-0.096946</td>\n",
              "    </tr>\n",
              "    <tr>\n",
              "      <th>Temp3pm</th>\n",
              "      <td>0.727222</td>\n",
              "      <td>0.984841</td>\n",
              "      <td>-0.074627</td>\n",
              "      <td>0.630727</td>\n",
              "      <td>0.486129</td>\n",
              "      <td>-0.000382</td>\n",
              "      <td>-0.018357</td>\n",
              "      <td>-0.009436</td>\n",
              "      <td>-0.487758</td>\n",
              "      <td>-0.497245</td>\n",
              "      <td>-0.310774</td>\n",
              "      <td>-0.421318</td>\n",
              "      <td>-0.281213</td>\n",
              "      <td>-0.297230</td>\n",
              "      <td>0.870620</td>\n",
              "      <td>1.000000</td>\n",
              "      <td>-0.228515</td>\n",
              "    </tr>\n",
              "    <tr>\n",
              "      <th>RainToday</th>\n",
              "      <td>0.048953</td>\n",
              "      <td>-0.221810</td>\n",
              "      <td>0.550515</td>\n",
              "      <td>-0.218079</td>\n",
              "      <td>-0.328904</td>\n",
              "      <td>0.146276</td>\n",
              "      <td>0.083125</td>\n",
              "      <td>0.085627</td>\n",
              "      <td>0.379451</td>\n",
              "      <td>0.385440</td>\n",
              "      <td>-0.186848</td>\n",
              "      <td>-0.104103</td>\n",
              "      <td>0.297794</td>\n",
              "      <td>0.272034</td>\n",
              "      <td>-0.096946</td>\n",
              "      <td>-0.228515</td>\n",
              "      <td>1.000000</td>\n",
              "    </tr>\n",
              "  </tbody>\n",
              "</table>\n",
              "</div>"
            ],
            "text/plain": [
              "                MinTemp   MaxTemp  Rainfall  ...   Temp9am   Temp3pm  RainToday\n",
              "MinTemp        1.000000  0.749687  0.110800  ...  0.906295  0.727222   0.048953\n",
              "MaxTemp        0.749687  1.000000 -0.069981  ...  0.893387  0.984841  -0.221810\n",
              "Rainfall       0.110800 -0.069981  1.000000  ...  0.013713 -0.074627   0.550515\n",
              "Evaporation    0.506764  0.650964 -0.077239  ...  0.593122  0.630727  -0.218079\n",
              "Sunshine       0.076087  0.463913 -0.246379  ...  0.289038  0.486129  -0.328904\n",
              "WindGustSpeed  0.118054  0.035531  0.106308  ...  0.085520 -0.000382   0.146276\n",
              "WindSpeed9am   0.108522 -0.008171  0.050584  ...  0.053749 -0.018357   0.083125\n",
              "WindSpeed3pm   0.137273  0.012266  0.044112  ...  0.114043 -0.009436   0.085627\n",
              "Humidity9am   -0.174991 -0.495781  0.263625  ... -0.423598 -0.487758   0.379451\n",
              "Humidity3pm    0.070827 -0.448116  0.277625  ... -0.151614 -0.497245   0.385440\n",
              "Pressure9am   -0.475661 -0.350980 -0.180606  ... -0.443410 -0.310774  -0.186848\n",
              "Pressure3pm   -0.495577 -0.451691 -0.137302  ... -0.500509 -0.421318  -0.104103\n",
              "Cloud9am       0.106177 -0.263634  0.217169  ... -0.109591 -0.281213   0.297794\n",
              "Cloud3pm       0.042173 -0.257752  0.191433  ... -0.107885 -0.297230   0.272034\n",
              "Temp9am        0.906295  0.893387  0.013713  ...  1.000000  0.870620  -0.096946\n",
              "Temp3pm        0.727222  0.984841 -0.074627  ...  0.870620  1.000000  -0.228515\n",
              "RainToday      0.048953 -0.221810  0.550515  ... -0.096946 -0.228515   1.000000\n",
              "\n",
              "[17 rows x 17 columns]"
            ]
          },
          "metadata": {
            "tags": []
          },
          "execution_count": 5
        }
      ]
    },
    {
      "cell_type": "markdown",
      "metadata": {
        "id": "h64-EKsUjUHf"
      },
      "source": [
        "Podemos perceber que os 3 fatores de maior correlação com a ocorrência de chuva no dia são Rainfall (previsão de chuva em mm), Humidity3pm e Humidity9am, nessa ordem. Usaremos os métodos do sklearn para produzir um modelo de previsão baseado na humidade do dia."
      ]
    },
    {
      "cell_type": "code",
      "metadata": {
        "id": "70kUrfB9lOHP"
      },
      "source": [
        "!pip install mlflow\n",
        "!pip install optuna\n",
        "!pip install auto-sklearn\n",
        "!pip install scipy==1.7.1"
      ],
      "execution_count": null,
      "outputs": []
    },
    {
      "cell_type": "code",
      "metadata": {
        "id": "uLLvlTHMlJkr"
      },
      "source": [
        "#Importando bibliotecas e configurando o logging entre elas\n",
        "from urllib.parse import urlparse\n",
        "import mlflow\n",
        "import mlflow.sklearn\n",
        "from sklearn.metrics import accuracy_score\n",
        "import optuna\n",
        "import logging\n",
        "from sklearn.metrics import confusion_matrix\n",
        "\n",
        "logging.basicConfig(level=logging.WARN)\n",
        "logger = logging.getLogger(__name__)"
      ],
      "execution_count": 6,
      "outputs": []
    },
    {
      "cell_type": "code",
      "metadata": {
        "colab": {
          "base_uri": "https://localhost:8080/",
          "height": 282
        },
        "id": "ZOWiirUTj9UC",
        "outputId": "0a8693bb-296d-4eb2-c4b6-1ea912c02390"
      },
      "source": [
        "from sklearn.model_selection import train_test_split\n",
        "import numpy as np\n",
        "import matplotlib.pyplot as plt\n",
        "# In the first step we will split the data in training and remaining dataset\n",
        "X = (std[[\"Humidity9am\", \"Humidity3pm\"]])[:1000].to_numpy()\n",
        "y = std.RainToday[:1000].to_numpy()\n",
        "Xtrain, Xrem, ytrain, yrem = train_test_split(X,y, train_size=0.8)\n",
        "Xvalid, Xtest, yvalid, ytest = train_test_split(Xrem, yrem, train_size=0.5, random_state=34)\n",
        "plt.scatter(Xtrain[:, 0], Xtrain[:, 1], c=ytrain, s=50, cmap='rainbow')"
      ],
      "execution_count": 7,
      "outputs": [
        {
          "output_type": "execute_result",
          "data": {
            "text/plain": [
              "<matplotlib.collections.PathCollection at 0x7ff9d7b0e9d0>"
            ]
          },
          "metadata": {
            "tags": []
          },
          "execution_count": 7
        },
        {
          "output_type": "display_data",
          "data": {
            "image/png": "[encoded data removed]",
            "text/plain": [
              "<Figure size 432x288 with 1 Axes>"
            ]
          },
          "metadata": {
            "tags": [],
            "needs_background": "light"
          }
        }
      ]
    },
    {
      "cell_type": "code",
      "metadata": {
        "colab": {
          "base_uri": "https://localhost:8080/"
        },
        "id": "yFze2l0DkRcb",
        "outputId": "0e12eaf9-896e-40fd-8c20-84d6bffa1a06"
      },
      "source": [
        "#Random Forest\n",
        "from sklearn.ensemble import RandomForestClassifier\n",
        "\n",
        "def RFObjective(trial):\n",
        "  with mlflow.start_run(run_name=\"RandomForestClassifier\"):\n",
        "    #Especificando o range dos hiperparâmetros\n",
        "    max_depth = trial.suggest_int('max_depth', 1, 100)\n",
        "    n_estimators = trial.suggest_int('n_estimators', 1, 100)\n",
        "\n",
        "    #Construindo o modelo\n",
        "    model = RandomForestClassifier(max_depth=max_depth, random_state=112, n_estimators=n_estimators)\n",
        "    model.fit(Xtrain, ytrain)\n",
        "    \n",
        "    #Validando o modelo\n",
        "    ypred_valid = model.predict(Xvalid)\n",
        "    ypred_train = model.predict(Xtrain)\n",
        "    acc_valid = accuracy_score(yvalid, ypred_valid)\n",
        "    acc_train = accuracy_score(ytrain, ypred_train)\n",
        "\n",
        "    print(\"ACC TRAINING:\" + str(acc_train))\n",
        "    print(\"ACC VALID:\" + str(acc_valid))\n",
        "    print(\"Random Forest model (max_depth=%f, n_estimators=%f):\" % (max_depth, n_estimators))\n",
        "\n",
        "    mlflow.log_param('max_depth', max_depth)\n",
        "    mlflow.log_param('n_estimators', n_estimators)\n",
        "    mlflow.log_metric('acc_valid', acc_valid)\n",
        "\n",
        "    tracking_url_type_store = urlparse(mlflow.get_tracking_uri()).scheme\n",
        "\n",
        "    # Model registry does not work with file store\n",
        "    if tracking_url_type_store != \"file\":\n",
        "        mlflow.sklearn.log_model(model, \"model\", registered_model_name=\"RandomForestClassifier\")\n",
        "    else:\n",
        "        mlflow.sklearn.log_model(model, \"model\")\n",
        "    \n",
        "    # output: evaluation score\n",
        "    return acc_valid\n",
        "\n",
        "study_randomforest = optuna.create_study(direction='maximize')\n",
        "study_randomforest.optimize(RFObjective, n_trials=40)"
      ],
      "execution_count": 15,
      "outputs": [
        {
          "output_type": "stream",
          "text": [
            "\u001b[32m[I 2021-08-17 01:28:02,764]\u001b[0m A new study created in memory with name: no-name-b1de0a9f-0cc6-4c1d-9d47-2a54087f8af1\u001b[0m\n",
            "\u001b[32m[I 2021-08-17 01:28:02,927]\u001b[0m Trial 0 finished with value: 0.83 and parameters: {'max_depth': 97, 'n_estimators': 51}. Best is trial 0 with value: 0.83.\u001b[0m\n",
            "\u001b[32m[I 2021-08-17 01:28:02,987]\u001b[0m Trial 1 finished with value: 0.87 and parameters: {'max_depth': 3, 'n_estimators': 13}. Best is trial 1 with value: 0.87.\u001b[0m\n"
          ],
          "name": "stderr"
        },
        {
          "output_type": "stream",
          "text": [
            "ACC TRAINING:0.9825\n",
            "ACC VALID:0.83\n",
            "Random Forest model (max_depth=97.000000, n_estimators=51.000000):\n",
            "ACC TRAINING:0.885\n",
            "ACC VALID:0.87\n",
            "Random Forest model (max_depth=3.000000, n_estimators=13.000000):\n"
          ],
          "name": "stdout"
        },
        {
          "output_type": "stream",
          "text": [
            "\u001b[32m[I 2021-08-17 01:28:03,181]\u001b[0m Trial 2 finished with value: 0.83 and parameters: {'max_depth': 51, 'n_estimators': 64}. Best is trial 1 with value: 0.87.\u001b[0m\n"
          ],
          "name": "stderr"
        },
        {
          "output_type": "stream",
          "text": [
            "ACC TRAINING:0.9825\n",
            "ACC VALID:0.83\n",
            "Random Forest model (max_depth=51.000000, n_estimators=64.000000):\n"
          ],
          "name": "stdout"
        },
        {
          "output_type": "stream",
          "text": [
            "\u001b[32m[I 2021-08-17 01:28:03,461]\u001b[0m Trial 3 finished with value: 0.83 and parameters: {'max_depth': 79, 'n_estimators': 97}. Best is trial 1 with value: 0.87.\u001b[0m\n"
          ],
          "name": "stderr"
        },
        {
          "output_type": "stream",
          "text": [
            "ACC TRAINING:0.9825\n",
            "ACC VALID:0.83\n",
            "Random Forest model (max_depth=79.000000, n_estimators=97.000000):\n"
          ],
          "name": "stdout"
        },
        {
          "output_type": "stream",
          "text": [
            "\u001b[32m[I 2021-08-17 01:28:03,733]\u001b[0m Trial 4 finished with value: 0.83 and parameters: {'max_depth': 25, 'n_estimators': 92}. Best is trial 1 with value: 0.87.\u001b[0m\n",
            "\u001b[32m[I 2021-08-17 01:28:03,780]\u001b[0m Trial 5 finished with value: 0.81 and parameters: {'max_depth': 90, 'n_estimators': 5}. Best is trial 1 with value: 0.87.\u001b[0m\n"
          ],
          "name": "stderr"
        },
        {
          "output_type": "stream",
          "text": [
            "ACC TRAINING:0.9825\n",
            "ACC VALID:0.83\n",
            "Random Forest model (max_depth=25.000000, n_estimators=92.000000):\n",
            "ACC TRAINING:0.95875\n",
            "ACC VALID:0.81\n",
            "Random Forest model (max_depth=90.000000, n_estimators=5.000000):\n"
          ],
          "name": "stdout"
        },
        {
          "output_type": "stream",
          "text": [
            "\u001b[32m[I 2021-08-17 01:28:03,998]\u001b[0m Trial 6 finished with value: 0.83 and parameters: {'max_depth': 36, 'n_estimators': 71}. Best is trial 1 with value: 0.87.\u001b[0m\n",
            "\u001b[32m[I 2021-08-17 01:28:04,048]\u001b[0m Trial 7 finished with value: 0.81 and parameters: {'max_depth': 69, 'n_estimators': 5}. Best is trial 1 with value: 0.87.\u001b[0m\n"
          ],
          "name": "stderr"
        },
        {
          "output_type": "stream",
          "text": [
            "ACC TRAINING:0.9825\n",
            "ACC VALID:0.83\n",
            "Random Forest model (max_depth=36.000000, n_estimators=71.000000):\n",
            "ACC TRAINING:0.95875\n",
            "ACC VALID:0.81\n",
            "Random Forest model (max_depth=69.000000, n_estimators=5.000000):\n"
          ],
          "name": "stdout"
        },
        {
          "output_type": "stream",
          "text": [
            "\u001b[32m[I 2021-08-17 01:28:04,286]\u001b[0m Trial 8 finished with value: 0.83 and parameters: {'max_depth': 58, 'n_estimators': 82}. Best is trial 1 with value: 0.87.\u001b[0m\n",
            "\u001b[32m[I 2021-08-17 01:28:04,336]\u001b[0m Trial 9 finished with value: 0.84 and parameters: {'max_depth': 98, 'n_estimators': 8}. Best is trial 1 with value: 0.87.\u001b[0m\n"
          ],
          "name": "stderr"
        },
        {
          "output_type": "stream",
          "text": [
            "ACC TRAINING:0.9825\n",
            "ACC VALID:0.83\n",
            "Random Forest model (max_depth=58.000000, n_estimators=82.000000):\n",
            "ACC TRAINING:0.96375\n",
            "ACC VALID:0.84\n",
            "Random Forest model (max_depth=98.000000, n_estimators=8.000000):\n",
            "ACC TRAINING:0.8975\n",
            "ACC VALID:0.87\n",
            "Random Forest model (max_depth=5.000000, n_estimators=27.000000):\n"
          ],
          "name": "stdout"
        },
        {
          "output_type": "stream",
          "text": [
            "\u001b[32m[I 2021-08-17 01:28:04,443]\u001b[0m Trial 10 finished with value: 0.87 and parameters: {'max_depth': 5, 'n_estimators': 27}. Best is trial 1 with value: 0.87.\u001b[0m\n",
            "\u001b[32m[I 2021-08-17 01:28:04,562]\u001b[0m Trial 11 finished with value: 0.89 and parameters: {'max_depth': 2, 'n_estimators': 31}. Best is trial 11 with value: 0.89.\u001b[0m\n",
            "\u001b[32m[I 2021-08-17 01:28:04,675]\u001b[0m Trial 12 finished with value: 0.89 and parameters: {'max_depth': 2, 'n_estimators': 29}. Best is trial 11 with value: 0.89.\u001b[0m\n"
          ],
          "name": "stderr"
        },
        {
          "output_type": "stream",
          "text": [
            "ACC TRAINING:0.8675\n",
            "ACC VALID:0.89\n",
            "Random Forest model (max_depth=2.000000, n_estimators=31.000000):\n",
            "ACC TRAINING:0.86875\n",
            "ACC VALID:0.89\n",
            "Random Forest model (max_depth=2.000000, n_estimators=29.000000):\n"
          ],
          "name": "stdout"
        },
        {
          "output_type": "stream",
          "text": [
            "\u001b[32m[I 2021-08-17 01:28:04,807]\u001b[0m Trial 13 finished with value: 0.83 and parameters: {'max_depth': 20, 'n_estimators': 33}. Best is trial 11 with value: 0.89.\u001b[0m\n",
            "\u001b[32m[I 2021-08-17 01:28:04,942]\u001b[0m Trial 14 finished with value: 0.83 and parameters: {'max_depth': 18, 'n_estimators': 33}. Best is trial 11 with value: 0.89.\u001b[0m\n"
          ],
          "name": "stderr"
        },
        {
          "output_type": "stream",
          "text": [
            "ACC TRAINING:0.9825\n",
            "ACC VALID:0.83\n",
            "Random Forest model (max_depth=20.000000, n_estimators=33.000000):\n",
            "ACC TRAINING:0.9825\n",
            "ACC VALID:0.83\n",
            "Random Forest model (max_depth=18.000000, n_estimators=33.000000):\n"
          ],
          "name": "stdout"
        },
        {
          "output_type": "stream",
          "text": [
            "\u001b[32m[I 2021-08-17 01:28:05,121]\u001b[0m Trial 15 finished with value: 0.83 and parameters: {'max_depth': 36, 'n_estimators': 48}. Best is trial 11 with value: 0.89.\u001b[0m\n",
            "\u001b[32m[I 2021-08-17 01:28:05,217]\u001b[0m Trial 16 finished with value: 0.89 and parameters: {'max_depth': 2, 'n_estimators': 23}. Best is trial 11 with value: 0.89.\u001b[0m\n"
          ],
          "name": "stderr"
        },
        {
          "output_type": "stream",
          "text": [
            "ACC TRAINING:0.9825\n",
            "ACC VALID:0.83\n",
            "Random Forest model (max_depth=36.000000, n_estimators=48.000000):\n",
            "ACC TRAINING:0.8775\n",
            "ACC VALID:0.89\n",
            "Random Forest model (max_depth=2.000000, n_estimators=23.000000):\n"
          ],
          "name": "stdout"
        },
        {
          "output_type": "stream",
          "text": [
            "\u001b[32m[I 2021-08-17 01:28:05,319]\u001b[0m Trial 17 finished with value: 0.85 and parameters: {'max_depth': 35, 'n_estimators': 21}. Best is trial 11 with value: 0.89.\u001b[0m\n",
            "\u001b[32m[I 2021-08-17 01:28:05,478]\u001b[0m Trial 18 finished with value: 0.84 and parameters: {'max_depth': 13, 'n_estimators': 44}. Best is trial 11 with value: 0.89.\u001b[0m\n"
          ],
          "name": "stderr"
        },
        {
          "output_type": "stream",
          "text": [
            "ACC TRAINING:0.9775\n",
            "ACC VALID:0.85\n",
            "Random Forest model (max_depth=35.000000, n_estimators=21.000000):\n",
            "ACC TRAINING:0.98\n",
            "ACC VALID:0.84\n",
            "Random Forest model (max_depth=13.000000, n_estimators=44.000000):\n"
          ],
          "name": "stdout"
        },
        {
          "output_type": "stream",
          "text": [
            "\u001b[32m[I 2021-08-17 01:28:05,592]\u001b[0m Trial 19 finished with value: 0.85 and parameters: {'max_depth': 30, 'n_estimators': 19}. Best is trial 11 with value: 0.89.\u001b[0m\n",
            "\u001b[32m[I 2021-08-17 01:28:05,748]\u001b[0m Trial 20 finished with value: 0.84 and parameters: {'max_depth': 11, 'n_estimators': 42}. Best is trial 11 with value: 0.89.\u001b[0m\n"
          ],
          "name": "stderr"
        },
        {
          "output_type": "stream",
          "text": [
            "ACC TRAINING:0.9775\n",
            "ACC VALID:0.85\n",
            "Random Forest model (max_depth=30.000000, n_estimators=19.000000):\n",
            "ACC TRAINING:0.9775\n",
            "ACC VALID:0.84\n",
            "Random Forest model (max_depth=11.000000, n_estimators=42.000000):\n"
          ],
          "name": "stdout"
        },
        {
          "output_type": "stream",
          "text": [
            "\u001b[32m[I 2021-08-17 01:28:05,869]\u001b[0m Trial 21 finished with value: 0.88 and parameters: {'max_depth': 1, 'n_estimators': 33}. Best is trial 11 with value: 0.89.\u001b[0m\n",
            "\u001b[32m[I 2021-08-17 01:28:05,969]\u001b[0m Trial 22 finished with value: 0.85 and parameters: {'max_depth': 13, 'n_estimators': 21}. Best is trial 11 with value: 0.89.\u001b[0m\n"
          ],
          "name": "stderr"
        },
        {
          "output_type": "stream",
          "text": [
            "ACC TRAINING:0.86625\n",
            "ACC VALID:0.88\n",
            "Random Forest model (max_depth=1.000000, n_estimators=33.000000):\n",
            "ACC TRAINING:0.9775\n",
            "ACC VALID:0.85\n",
            "Random Forest model (max_depth=13.000000, n_estimators=21.000000):\n"
          ],
          "name": "stdout"
        },
        {
          "output_type": "stream",
          "text": [
            "\u001b[32m[I 2021-08-17 01:28:06,102]\u001b[0m Trial 23 finished with value: 0.88 and parameters: {'max_depth': 1, 'n_estimators': 38}. Best is trial 11 with value: 0.89.\u001b[0m\n"
          ],
          "name": "stderr"
        },
        {
          "output_type": "stream",
          "text": [
            "ACC TRAINING:0.86375\n",
            "ACC VALID:0.88\n",
            "Random Forest model (max_depth=1.000000, n_estimators=38.000000):\n",
            "ACC TRAINING:0.975\n",
            "ACC VALID:0.84\n",
            "Random Forest model (max_depth=11.000000, n_estimators=57.000000):\n"
          ],
          "name": "stdout"
        },
        {
          "output_type": "stream",
          "text": [
            "\u001b[32m[I 2021-08-17 01:28:06,304]\u001b[0m Trial 24 finished with value: 0.84 and parameters: {'max_depth': 11, 'n_estimators': 57}. Best is trial 11 with value: 0.89.\u001b[0m\n",
            "\u001b[32m[I 2021-08-17 01:28:06,410]\u001b[0m Trial 25 finished with value: 0.84 and parameters: {'max_depth': 25, 'n_estimators': 26}. Best is trial 11 with value: 0.89.\u001b[0m\n",
            "\u001b[32m[I 2021-08-17 01:28:06,485]\u001b[0m Trial 26 finished with value: 0.84 and parameters: {'max_depth': 42, 'n_estimators': 13}. Best is trial 11 with value: 0.89.\u001b[0m\n"
          ],
          "name": "stderr"
        },
        {
          "output_type": "stream",
          "text": [
            "ACC TRAINING:0.98125\n",
            "ACC VALID:0.84\n",
            "Random Forest model (max_depth=25.000000, n_estimators=26.000000):\n",
            "ACC TRAINING:0.975\n",
            "ACC VALID:0.84\n",
            "Random Forest model (max_depth=42.000000, n_estimators=13.000000):\n",
            "ACC TRAINING:0.92125\n",
            "ACC VALID:0.87\n",
            "Random Forest model (max_depth=8.000000, n_estimators=27.000000):\n"
          ],
          "name": "stdout"
        },
        {
          "output_type": "stream",
          "text": [
            "\u001b[32m[I 2021-08-17 01:28:06,606]\u001b[0m Trial 27 finished with value: 0.87 and parameters: {'max_depth': 8, 'n_estimators': 27}. Best is trial 11 with value: 0.89.\u001b[0m\n",
            "\u001b[32m[I 2021-08-17 01:28:06,798]\u001b[0m Trial 28 finished with value: 0.83 and parameters: {'max_depth': 20, 'n_estimators': 55}. Best is trial 11 with value: 0.89.\u001b[0m\n",
            "\u001b[32m[I 2021-08-17 01:28:06,936]\u001b[0m Trial 29 finished with value: 0.83 and parameters: {'max_depth': 46, 'n_estimators': 38}. Best is trial 11 with value: 0.89.\u001b[0m\n"
          ],
          "name": "stderr"
        },
        {
          "output_type": "stream",
          "text": [
            "ACC TRAINING:0.9825\n",
            "ACC VALID:0.83\n",
            "Random Forest model (max_depth=20.000000, n_estimators=55.000000):\n",
            "ACC TRAINING:0.9825\n",
            "ACC VALID:0.83\n",
            "Random Forest model (max_depth=46.000000, n_estimators=38.000000):\n"
          ],
          "name": "stdout"
        },
        {
          "output_type": "stream",
          "text": [
            "\u001b[32m[I 2021-08-17 01:28:07,025]\u001b[0m Trial 30 finished with value: 0.83 and parameters: {'max_depth': 18, 'n_estimators': 14}. Best is trial 11 with value: 0.89.\u001b[0m\n",
            "\u001b[32m[I 2021-08-17 01:28:07,148]\u001b[0m Trial 31 finished with value: 0.89 and parameters: {'max_depth': 2, 'n_estimators': 33}. Best is trial 11 with value: 0.89.\u001b[0m\n"
          ],
          "name": "stderr"
        },
        {
          "output_type": "stream",
          "text": [
            "ACC TRAINING:0.97\n",
            "ACC VALID:0.83\n",
            "Random Forest model (max_depth=18.000000, n_estimators=14.000000):\n",
            "ACC TRAINING:0.87375\n",
            "ACC VALID:0.89\n",
            "Random Forest model (max_depth=2.000000, n_estimators=33.000000):\n"
          ],
          "name": "stdout"
        },
        {
          "output_type": "stream",
          "text": [
            "\u001b[32m[I 2021-08-17 01:28:07,277]\u001b[0m Trial 32 finished with value: 0.88 and parameters: {'max_depth': 7, 'n_estimators': 31}. Best is trial 11 with value: 0.89.\u001b[0m\n",
            "\u001b[32m[I 2021-08-17 01:28:07,417]\u001b[0m Trial 33 finished with value: 0.89 and parameters: {'max_depth': 2, 'n_estimators': 41}. Best is trial 11 with value: 0.89.\u001b[0m\n"
          ],
          "name": "stderr"
        },
        {
          "output_type": "stream",
          "text": [
            "ACC TRAINING:0.91375\n",
            "ACC VALID:0.88\n",
            "Random Forest model (max_depth=7.000000, n_estimators=31.000000):\n",
            "ACC TRAINING:0.87625\n",
            "ACC VALID:0.89\n",
            "Random Forest model (max_depth=2.000000, n_estimators=41.000000):\n"
          ],
          "name": "stdout"
        },
        {
          "output_type": "stream",
          "text": [
            "\u001b[32m[I 2021-08-17 01:28:07,593]\u001b[0m Trial 34 finished with value: 0.83 and parameters: {'max_depth': 15, 'n_estimators': 48}. Best is trial 11 with value: 0.89.\u001b[0m\n",
            "\u001b[32m[I 2021-08-17 01:28:07,736]\u001b[0m Trial 35 finished with value: 0.83 and parameters: {'max_depth': 25, 'n_estimators': 38}. Best is trial 11 with value: 0.89.\u001b[0m\n"
          ],
          "name": "stderr"
        },
        {
          "output_type": "stream",
          "text": [
            "ACC TRAINING:0.9825\n",
            "ACC VALID:0.83\n",
            "Random Forest model (max_depth=15.000000, n_estimators=48.000000):\n",
            "ACC TRAINING:0.9825\n",
            "ACC VALID:0.83\n",
            "Random Forest model (max_depth=25.000000, n_estimators=38.000000):\n"
          ],
          "name": "stdout"
        },
        {
          "output_type": "stream",
          "text": [
            "\u001b[32m[I 2021-08-17 01:28:07,940]\u001b[0m Trial 36 finished with value: 0.88 and parameters: {'max_depth': 7, 'n_estimators': 64}. Best is trial 11 with value: 0.89.\u001b[0m\n",
            "\u001b[32m[I 2021-08-17 01:28:07,989]\u001b[0m Trial 37 finished with value: 0.85 and parameters: {'max_depth': 7, 'n_estimators': 1}. Best is trial 11 with value: 0.89.\u001b[0m\n",
            "\u001b[32m[I 2021-08-17 01:28:08,086]\u001b[0m Trial 38 finished with value: 0.83 and parameters: {'max_depth': 80, 'n_estimators': 16}. Best is trial 11 with value: 0.89.\u001b[0m\n"
          ],
          "name": "stderr"
        },
        {
          "output_type": "stream",
          "text": [
            "ACC TRAINING:0.9125\n",
            "ACC VALID:0.88\n",
            "Random Forest model (max_depth=7.000000, n_estimators=64.000000):\n",
            "ACC TRAINING:0.895\n",
            "ACC VALID:0.85\n",
            "Random Forest model (max_depth=7.000000, n_estimators=1.000000):\n",
            "ACC TRAINING:0.97125\n",
            "ACC VALID:0.83\n",
            "Random Forest model (max_depth=80.000000, n_estimators=16.000000):\n"
          ],
          "name": "stdout"
        },
        {
          "output_type": "stream",
          "text": [
            "\u001b[32m[I 2021-08-17 01:28:08,282]\u001b[0m Trial 39 finished with value: 0.83 and parameters: {'max_depth': 56, 'n_estimators': 54}. Best is trial 11 with value: 0.89.\u001b[0m\n"
          ],
          "name": "stderr"
        },
        {
          "output_type": "stream",
          "text": [
            "ACC TRAINING:0.9825\n",
            "ACC VALID:0.83\n",
            "Random Forest model (max_depth=56.000000, n_estimators=54.000000):\n"
          ],
          "name": "stdout"
        }
      ]
    },
    {
      "cell_type": "code",
      "metadata": {
        "colab": {
          "base_uri": "https://localhost:8080/"
        },
        "id": "BplJQcQK1Y_H",
        "outputId": "3344d0f4-9623-4a1c-93a8-f59f74bbf647"
      },
      "source": [
        "#Exeutando o melhor modelo, agora nos dados de teste\n",
        "# [I 2021-08-17 01:28:05,217] Trial 16 finished with value: 0.89 and parameters: {'max_depth': 2, 'n_estimators': 23}. Best is trial 11 with value: 0.89.\n",
        "\n",
        "model = RandomForestClassifier(max_depth=2, random_state=90, n_estimators=23)\n",
        "model.fit(Xtrain, ytrain)\n",
        "\n",
        "#Testando o modelo\n",
        "ypred_test = model.predict(Xtest)\n",
        "ypred_train = model.predict(Xtrain)\n",
        "acc_test = accuracy_score(ytest, ypred_test)\n",
        "acc_train = accuracy_score(ytrain, ypred_train)\n",
        "\n",
        "print(\"ACC TRAINING:\" + str(acc_train))\n",
        "print(\"ACC TEST:\" + str(acc_test))\n",
        "# print(\"Random Forest model (max_depth=%f, n_estimators=%f):\" % (max_depth, n_estimators))"
      ],
      "execution_count": 21,
      "outputs": [
        {
          "output_type": "stream",
          "text": [
            "ACC TRAINING:0.8775\n",
            "ACC TEST:0.82\n"
          ],
          "name": "stdout"
        }
      ]
    },
    {
      "cell_type": "code",
      "metadata": {
        "id": "Op_9y6BrmNpa",
        "colab": {
          "base_uri": "https://localhost:8080/"
        },
        "outputId": "f2a02767-dfb6-4ec2-bc32-e39ed3614a8c"
      },
      "source": [
        "#KNN\n",
        "from sklearn.neighbors import KNeighborsClassifier\n",
        "from sklearn.model_selection import cross_val_score\n",
        "\n",
        "def KNNObjective(trial):\n",
        "    with mlflow.start_run(run_name=\"KNN\"):\n",
        "\n",
        "        #Especificando o range dos hiperparâmetros\n",
        "        n_neighbors = trial.suggest_int('n_neighbors', 1, 225)\n",
        "        \n",
        "        #Construindo o modelo\n",
        "        model =  KNeighborsClassifier(n_neighbors=n_neighbors)\n",
        "        model.fit(Xtrain, ytrain)\n",
        "\n",
        "        #Validando o modelo\n",
        "        ypred_valid = model.predict(Xvalid)\n",
        "        ypred_train = model.predict(Xtrain)\n",
        "        acc_valid = accuracy_score(yvalid, ypred_valid)\n",
        "        acc_train = accuracy_score(ytrain, ypred_train)\n",
        "\n",
        "\n",
        "        print(\"ACC TRAINING:\" + str(acc_train.mean()))\n",
        "        print(\"ACC VALID:\" + str(acc_valid.mean()))\n",
        "        print(\"KNN model (n_neighbors=%f):\" % (n_neighbors))\n",
        "        mlflow.log_param('n_neighbors', n_neighbors)\n",
        "        mlflow.log_metric('acc_valid', acc_valid)\n",
        "\n",
        "\n",
        "        tracking_url_type_store = urlparse(mlflow.get_tracking_uri()).scheme\n",
        "\n",
        "        # Model registry does not work with file store\n",
        "        if tracking_url_type_store != \"file\":\n",
        "            mlflow.sklearn.log_model(model, \"model\", registered_model_name=\"KNN\")\n",
        "        else:\n",
        "            mlflow.sklearn.log_model(model, \"model\")\n",
        "\n",
        "    # output: evaluation score\n",
        "    return acc_valid\n",
        "\n",
        "study_knn = optuna.create_study(direction='maximize')\n",
        "study_knn.optimize(KNNObjective, n_trials=40)"
      ],
      "execution_count": 20,
      "outputs": [
        {
          "output_type": "stream",
          "text": [
            "\u001b[32m[I 2021-08-17 01:52:23,602]\u001b[0m A new study created in memory with name: no-name-bd9c7093-fc9f-46da-a617-e903797674bc\u001b[0m\n",
            "\u001b[32m[I 2021-08-17 01:52:23,690]\u001b[0m Trial 0 finished with value: 0.89 and parameters: {'n_neighbors': 139}. Best is trial 0 with value: 0.89.\u001b[0m\n",
            "\u001b[32m[I 2021-08-17 01:52:23,761]\u001b[0m Trial 1 finished with value: 0.88 and parameters: {'n_neighbors': 26}. Best is trial 0 with value: 0.89.\u001b[0m\n",
            "\u001b[32m[I 2021-08-17 01:52:23,829]\u001b[0m Trial 2 finished with value: 0.86 and parameters: {'n_neighbors': 6}. Best is trial 0 with value: 0.89.\u001b[0m\n"
          ],
          "name": "stderr"
        },
        {
          "output_type": "stream",
          "text": [
            "ACC TRAINING:0.87375\n",
            "ACC VALID:0.89\n",
            "KNN model (n_neighbors=139.000000):\n",
            "ACC TRAINING:0.87625\n",
            "ACC VALID:0.88\n",
            "KNN model (n_neighbors=26.000000):\n",
            "ACC TRAINING:0.8875\n",
            "ACC VALID:0.86\n",
            "KNN model (n_neighbors=6.000000):\n"
          ],
          "name": "stdout"
        },
        {
          "output_type": "stream",
          "text": [
            "\u001b[32m[I 2021-08-17 01:52:23,928]\u001b[0m Trial 3 finished with value: 0.88 and parameters: {'n_neighbors': 173}. Best is trial 0 with value: 0.89.\u001b[0m\n",
            "\u001b[32m[I 2021-08-17 01:52:24,016]\u001b[0m Trial 4 finished with value: 0.89 and parameters: {'n_neighbors': 123}. Best is trial 0 with value: 0.89.\u001b[0m\n",
            "\u001b[32m[I 2021-08-17 01:52:24,100]\u001b[0m Trial 5 finished with value: 0.89 and parameters: {'n_neighbors': 101}. Best is trial 0 with value: 0.89.\u001b[0m\n"
          ],
          "name": "stderr"
        },
        {
          "output_type": "stream",
          "text": [
            "ACC TRAINING:0.8625\n",
            "ACC VALID:0.88\n",
            "KNN model (n_neighbors=173.000000):\n",
            "ACC TRAINING:0.875\n",
            "ACC VALID:0.89\n",
            "KNN model (n_neighbors=123.000000):\n",
            "ACC TRAINING:0.87375\n",
            "ACC VALID:0.89\n",
            "KNN model (n_neighbors=101.000000):\n"
          ],
          "name": "stdout"
        },
        {
          "output_type": "stream",
          "text": [
            "\u001b[32m[I 2021-08-17 01:52:24,184]\u001b[0m Trial 6 finished with value: 0.88 and parameters: {'n_neighbors': 84}. Best is trial 0 with value: 0.89.\u001b[0m\n",
            "\u001b[32m[I 2021-08-17 01:52:24,261]\u001b[0m Trial 7 finished with value: 0.88 and parameters: {'n_neighbors': 52}. Best is trial 0 with value: 0.89.\u001b[0m\n",
            "\u001b[32m[I 2021-08-17 01:52:24,332]\u001b[0m Trial 8 finished with value: 0.86 and parameters: {'n_neighbors': 6}. Best is trial 0 with value: 0.89.\u001b[0m\n"
          ],
          "name": "stderr"
        },
        {
          "output_type": "stream",
          "text": [
            "ACC TRAINING:0.87625\n",
            "ACC VALID:0.88\n",
            "KNN model (n_neighbors=84.000000):\n",
            "ACC TRAINING:0.875\n",
            "ACC VALID:0.88\n",
            "KNN model (n_neighbors=52.000000):\n",
            "ACC TRAINING:0.8875\n",
            "ACC VALID:0.86\n",
            "KNN model (n_neighbors=6.000000):\n"
          ],
          "name": "stdout"
        },
        {
          "output_type": "stream",
          "text": [
            "\u001b[32m[I 2021-08-17 01:52:24,425]\u001b[0m Trial 9 finished with value: 0.89 and parameters: {'n_neighbors': 123}. Best is trial 0 with value: 0.89.\u001b[0m\n",
            "\u001b[32m[I 2021-08-17 01:52:24,527]\u001b[0m Trial 10 finished with value: 0.86 and parameters: {'n_neighbors': 216}. Best is trial 0 with value: 0.89.\u001b[0m\n"
          ],
          "name": "stderr"
        },
        {
          "output_type": "stream",
          "text": [
            "ACC TRAINING:0.875\n",
            "ACC VALID:0.89\n",
            "KNN model (n_neighbors=123.000000):\n",
            "ACC TRAINING:0.835\n",
            "ACC VALID:0.86\n",
            "KNN model (n_neighbors=216.000000):\n",
            "ACC TRAINING:0.87\n",
            "ACC VALID:0.88\n",
            "KNN model (n_neighbors=145.000000):\n"
          ],
          "name": "stdout"
        },
        {
          "output_type": "stream",
          "text": [
            "\u001b[32m[I 2021-08-17 01:52:24,625]\u001b[0m Trial 11 finished with value: 0.88 and parameters: {'n_neighbors': 145}. Best is trial 0 with value: 0.89.\u001b[0m\n",
            "\u001b[32m[I 2021-08-17 01:52:24,723]\u001b[0m Trial 12 finished with value: 0.88 and parameters: {'n_neighbors': 167}. Best is trial 0 with value: 0.89.\u001b[0m\n",
            "\u001b[32m[I 2021-08-17 01:52:24,808]\u001b[0m Trial 13 finished with value: 0.88 and parameters: {'n_neighbors': 75}. Best is trial 0 with value: 0.89.\u001b[0m\n",
            "\u001b[32m[I 2021-08-17 01:52:24,899]\u001b[0m Trial 14 finished with value: 0.89 and parameters: {'n_neighbors': 134}. Best is trial 0 with value: 0.89.\u001b[0m\n"
          ],
          "name": "stderr"
        },
        {
          "output_type": "stream",
          "text": [
            "ACC TRAINING:0.86125\n",
            "ACC VALID:0.88\n",
            "KNN model (n_neighbors=167.000000):\n",
            "ACC TRAINING:0.87875\n",
            "ACC VALID:0.88\n",
            "KNN model (n_neighbors=75.000000):\n",
            "ACC TRAINING:0.875\n",
            "ACC VALID:0.89\n",
            "KNN model (n_neighbors=134.000000):\n"
          ],
          "name": "stdout"
        },
        {
          "output_type": "stream",
          "text": [
            "\u001b[32m[I 2021-08-17 01:52:24,998]\u001b[0m Trial 15 finished with value: 0.88 and parameters: {'n_neighbors': 188}. Best is trial 0 with value: 0.89.\u001b[0m\n",
            "\u001b[32m[I 2021-08-17 01:52:25,086]\u001b[0m Trial 16 finished with value: 0.88 and parameters: {'n_neighbors': 103}. Best is trial 0 with value: 0.89.\u001b[0m\n",
            "\u001b[32m[I 2021-08-17 01:52:25,181]\u001b[0m Trial 17 finished with value: 0.88 and parameters: {'n_neighbors': 142}. Best is trial 0 with value: 0.89.\u001b[0m\n"
          ],
          "name": "stderr"
        },
        {
          "output_type": "stream",
          "text": [
            "ACC TRAINING:0.85625\n",
            "ACC VALID:0.88\n",
            "KNN model (n_neighbors=188.000000):\n",
            "ACC TRAINING:0.87375\n",
            "ACC VALID:0.88\n",
            "KNN model (n_neighbors=103.000000):\n",
            "ACC TRAINING:0.8725\n",
            "ACC VALID:0.88\n",
            "KNN model (n_neighbors=142.000000):\n"
          ],
          "name": "stdout"
        },
        {
          "output_type": "stream",
          "text": [
            "\u001b[32m[I 2021-08-17 01:52:25,312]\u001b[0m Trial 18 finished with value: 0.87 and parameters: {'n_neighbors': 215}. Best is trial 0 with value: 0.89.\u001b[0m\n",
            "\u001b[32m[I 2021-08-17 01:52:25,405]\u001b[0m Trial 19 finished with value: 0.88 and parameters: {'n_neighbors': 148}. Best is trial 0 with value: 0.89.\u001b[0m\n"
          ],
          "name": "stderr"
        },
        {
          "output_type": "stream",
          "text": [
            "ACC TRAINING:0.84375\n",
            "ACC VALID:0.87\n",
            "KNN model (n_neighbors=215.000000):\n",
            "ACC TRAINING:0.86875\n",
            "ACC VALID:0.88\n",
            "KNN model (n_neighbors=148.000000):\n",
            "ACC TRAINING:0.85875\n",
            "ACC VALID:0.88\n",
            "KNN model (n_neighbors=192.000000):\n"
          ],
          "name": "stdout"
        },
        {
          "output_type": "stream",
          "text": [
            "\u001b[32m[I 2021-08-17 01:52:25,512]\u001b[0m Trial 20 finished with value: 0.88 and parameters: {'n_neighbors': 192}. Best is trial 0 with value: 0.89.\u001b[0m\n",
            "\u001b[32m[I 2021-08-17 01:52:25,603]\u001b[0m Trial 21 finished with value: 0.88 and parameters: {'n_neighbors': 104}. Best is trial 0 with value: 0.89.\u001b[0m\n",
            "\u001b[32m[I 2021-08-17 01:52:25,690]\u001b[0m Trial 22 finished with value: 0.88 and parameters: {'n_neighbors': 84}. Best is trial 0 with value: 0.89.\u001b[0m\n",
            "\u001b[32m[I 2021-08-17 01:52:25,778]\u001b[0m Trial 23 finished with value: 0.89 and parameters: {'n_neighbors': 113}. Best is trial 0 with value: 0.89.\u001b[0m\n"
          ],
          "name": "stderr"
        },
        {
          "output_type": "stream",
          "text": [
            "ACC TRAINING:0.87375\n",
            "ACC VALID:0.88\n",
            "KNN model (n_neighbors=104.000000):\n",
            "ACC TRAINING:0.87625\n",
            "ACC VALID:0.88\n",
            "KNN model (n_neighbors=84.000000):\n",
            "ACC TRAINING:0.875\n",
            "ACC VALID:0.89\n",
            "KNN model (n_neighbors=113.000000):\n"
          ],
          "name": "stdout"
        },
        {
          "output_type": "stream",
          "text": [
            "\u001b[32m[I 2021-08-17 01:52:25,878]\u001b[0m Trial 24 finished with value: 0.89 and parameters: {'n_neighbors': 130}. Best is trial 0 with value: 0.89.\u001b[0m\n",
            "\u001b[32m[I 2021-08-17 01:52:25,957]\u001b[0m Trial 25 finished with value: 0.89 and parameters: {'n_neighbors': 59}. Best is trial 0 with value: 0.89.\u001b[0m\n",
            "\u001b[32m[I 2021-08-17 01:52:26,057]\u001b[0m Trial 26 finished with value: 0.88 and parameters: {'n_neighbors': 162}. Best is trial 0 with value: 0.89.\u001b[0m\n"
          ],
          "name": "stderr"
        },
        {
          "output_type": "stream",
          "text": [
            "ACC TRAINING:0.87375\n",
            "ACC VALID:0.89\n",
            "KNN model (n_neighbors=130.000000):\n",
            "ACC TRAINING:0.87625\n",
            "ACC VALID:0.89\n",
            "KNN model (n_neighbors=59.000000):\n",
            "ACC TRAINING:0.86125\n",
            "ACC VALID:0.88\n",
            "KNN model (n_neighbors=162.000000):\n"
          ],
          "name": "stdout"
        },
        {
          "output_type": "stream",
          "text": [
            "\u001b[32m[I 2021-08-17 01:52:26,157]\u001b[0m Trial 27 finished with value: 0.89 and parameters: {'n_neighbors': 121}. Best is trial 0 with value: 0.89.\u001b[0m\n",
            "\u001b[32m[I 2021-08-17 01:52:26,252]\u001b[0m Trial 28 finished with value: 0.88 and parameters: {'n_neighbors': 55}. Best is trial 0 with value: 0.89.\u001b[0m\n",
            "\u001b[32m[I 2021-08-17 01:52:26,329]\u001b[0m Trial 29 finished with value: 0.88 and parameters: {'n_neighbors': 35}. Best is trial 0 with value: 0.89.\u001b[0m\n"
          ],
          "name": "stderr"
        },
        {
          "output_type": "stream",
          "text": [
            "ACC TRAINING:0.875\n",
            "ACC VALID:0.89\n",
            "KNN model (n_neighbors=121.000000):\n",
            "ACC TRAINING:0.87625\n",
            "ACC VALID:0.88\n",
            "KNN model (n_neighbors=55.000000):\n",
            "ACC TRAINING:0.875\n",
            "ACC VALID:0.88\n",
            "KNN model (n_neighbors=35.000000):\n"
          ],
          "name": "stdout"
        },
        {
          "output_type": "stream",
          "text": [
            "\u001b[32m[I 2021-08-17 01:52:26,414]\u001b[0m Trial 30 finished with value: 0.88 and parameters: {'n_neighbors': 72}. Best is trial 0 with value: 0.89.\u001b[0m\n",
            "\u001b[32m[I 2021-08-17 01:52:26,502]\u001b[0m Trial 31 finished with value: 0.89 and parameters: {'n_neighbors': 98}. Best is trial 0 with value: 0.89.\u001b[0m\n",
            "\u001b[32m[I 2021-08-17 01:52:26,590]\u001b[0m Trial 32 finished with value: 0.9 and parameters: {'n_neighbors': 122}. Best is trial 32 with value: 0.9.\u001b[0m\n"
          ],
          "name": "stderr"
        },
        {
          "output_type": "stream",
          "text": [
            "ACC TRAINING:0.8775\n",
            "ACC VALID:0.88\n",
            "KNN model (n_neighbors=72.000000):\n",
            "ACC TRAINING:0.87375\n",
            "ACC VALID:0.89\n",
            "KNN model (n_neighbors=98.000000):\n",
            "ACC TRAINING:0.875\n",
            "ACC VALID:0.9\n",
            "KNN model (n_neighbors=122.000000):\n"
          ],
          "name": "stdout"
        },
        {
          "output_type": "stream",
          "text": [
            "\u001b[32m[I 2021-08-17 01:52:26,690]\u001b[0m Trial 33 finished with value: 0.89 and parameters: {'n_neighbors': 128}. Best is trial 32 with value: 0.9.\u001b[0m\n",
            "\u001b[32m[I 2021-08-17 01:52:26,787]\u001b[0m Trial 34 finished with value: 0.88 and parameters: {'n_neighbors': 159}. Best is trial 32 with value: 0.9.\u001b[0m\n"
          ],
          "name": "stderr"
        },
        {
          "output_type": "stream",
          "text": [
            "ACC TRAINING:0.87375\n",
            "ACC VALID:0.89\n",
            "KNN model (n_neighbors=128.000000):\n",
            "ACC TRAINING:0.86375\n",
            "ACC VALID:0.88\n",
            "KNN model (n_neighbors=159.000000):\n",
            "ACC TRAINING:0.87375\n",
            "ACC VALID:0.89\n",
            "KNN model (n_neighbors=137.000000):\n"
          ],
          "name": "stdout"
        },
        {
          "output_type": "stream",
          "text": [
            "\u001b[32m[I 2021-08-17 01:52:26,888]\u001b[0m Trial 35 finished with value: 0.89 and parameters: {'n_neighbors': 137}. Best is trial 32 with value: 0.9.\u001b[0m\n",
            "\u001b[32m[I 2021-08-17 01:52:26,973]\u001b[0m Trial 36 finished with value: 0.89 and parameters: {'n_neighbors': 100}. Best is trial 32 with value: 0.9.\u001b[0m\n",
            "\u001b[32m[I 2021-08-17 01:52:27,056]\u001b[0m Trial 37 finished with value: 0.88 and parameters: {'n_neighbors': 88}. Best is trial 32 with value: 0.9.\u001b[0m\n",
            "\u001b[32m[I 2021-08-17 01:52:27,155]\u001b[0m Trial 38 finished with value: 0.88 and parameters: {'n_neighbors': 179}. Best is trial 32 with value: 0.9.\u001b[0m\n"
          ],
          "name": "stderr"
        },
        {
          "output_type": "stream",
          "text": [
            "ACC TRAINING:0.87625\n",
            "ACC VALID:0.89\n",
            "KNN model (n_neighbors=100.000000):\n",
            "ACC TRAINING:0.875\n",
            "ACC VALID:0.88\n",
            "KNN model (n_neighbors=88.000000):\n",
            "ACC TRAINING:0.85875\n",
            "ACC VALID:0.88\n",
            "KNN model (n_neighbors=179.000000):\n"
          ],
          "name": "stdout"
        },
        {
          "output_type": "stream",
          "text": [
            "\u001b[32m[I 2021-08-17 01:52:27,246]\u001b[0m Trial 39 finished with value: 0.89 and parameters: {'n_neighbors': 115}. Best is trial 32 with value: 0.9.\u001b[0m\n"
          ],
          "name": "stderr"
        },
        {
          "output_type": "stream",
          "text": [
            "ACC TRAINING:0.875\n",
            "ACC VALID:0.89\n",
            "KNN model (n_neighbors=115.000000):\n"
          ],
          "name": "stdout"
        }
      ]
    },
    {
      "cell_type": "code",
      "metadata": {
        "colab": {
          "base_uri": "https://localhost:8080/"
        },
        "id": "BhfyFK_g359N",
        "outputId": "75ea73a3-0fd6-493f-a3af-ff260a195dc2"
      },
      "source": [
        "#Exeutando o melhor modelo nos dados de validação\n",
        "# [I 2021-08-17 01:52:26,590] Trial 32 finished with value: 0.9 and parameters: {'n_neighbors': 122}. Best is trial 32 with value: 0.9.\n",
        "\n",
        "#Construindo o modelo\n",
        "model =  KNeighborsClassifier(n_neighbors=122)\n",
        "model.fit(Xtrain, ytrain)\n",
        "\n",
        "#Testando o modelo\n",
        "ypred_test = model.predict(Xtest)\n",
        "ypred_train = model.predict(Xtrain)\n",
        "acc_test = accuracy_score(ytest, ypred_test)\n",
        "acc_train = accuracy_score(ytrain, ypred_train)\n",
        "\n",
        "print(\"ACC TRAINING:\" + str(acc_train.mean()))\n",
        "print(\"ACC TEST:\" + str(acc_test.mean()))"
      ],
      "execution_count": 37,
      "outputs": [
        {
          "output_type": "stream",
          "text": [
            "ACC TRAINING:0.875\n",
            "ACC TEST:0.82\n"
          ],
          "name": "stdout"
        }
      ]
    },
    {
      "cell_type": "code",
      "metadata": {
        "colab": {
          "base_uri": "https://localhost:8080/"
        },
        "id": "uui6T7DxmaBl",
        "outputId": "5bd43941-88c1-451c-ebfb-4d3ea8bc828c"
      },
      "source": [
        "#Rede Neural\n",
        "from sklearn.neural_network import MLPClassifier\n",
        "def RNObjective(trial):\n",
        "    with mlflow.start_run(run_name=\"MLPClassifier\"):\n",
        "\n",
        "        #Especificando o range dos hiperparâmetros\n",
        "        # alpha = trial.suggest_int('alpha', 0.1, 10.1)\n",
        "        layer1 = trial.suggest_int('layer1', 1, 10)\n",
        "        layer2 = trial.suggest_int('layer2', 1, 10)\n",
        "        \n",
        "        \n",
        "        #Construindo o modelo\n",
        "        model =  MLPClassifier(hidden_layer_sizes=(layer1, layer2), random_state=1, shuffle=False)\n",
        "        model.fit(Xtrain, ytrain)\n",
        "\n",
        "        #Validando o modelo\n",
        "        ypred_valid = model.predict(Xvalid)\n",
        "        ypred_train = model.predict(Xtrain)\n",
        "        acc_valid = accuracy_score(yvalid, ypred_valid)\n",
        "        acc_train = accuracy_score(ytrain, ypred_train)\n",
        "\n",
        "        print(\"ACC TRAINING:\" + str(acc_train))\n",
        "        print(\"ACC VALID:\" + str(acc_valid))\n",
        "        print(\"Rede Neural (layer1=%f):\" % (layer1))\n",
        "        print(\"Rede Neural (layer2=%f):\" % (layer2))\n",
        "            \n",
        "        mlflow.log_param('layer1', layer1)\n",
        "        mlflow.log_param('layer2', layer2)\n",
        "        mlflow.log_metric('acc', acc_valid)\n",
        "\n",
        "\n",
        "        tracking_url_type_store = urlparse(mlflow.get_tracking_uri()).scheme\n",
        "\n",
        "        # Model registry does not work with file store\n",
        "        if tracking_url_type_store != \"file\":\n",
        "            mlflow.sklearn.log_model(model, \"model\", registered_model_name=\"Rede Neural\")\n",
        "        else:\n",
        "            mlflow.sklearn.log_model(model, \"model\")\n",
        "\n",
        "    # output: evaluation score\n",
        "    return acc_valid\n",
        "\n",
        "study_redeneural = optuna.create_study(direction='maximize')\n",
        "study_redeneural.optimize(RNObjective, n_trials=40)"
      ],
      "execution_count": 24,
      "outputs": [
        {
          "output_type": "stream",
          "text": [
            "\u001b[32m[I 2021-08-17 02:05:09,803]\u001b[0m A new study created in memory with name: no-name-25a2ac9a-b9bf-46f8-9dd8-bfa1c5de5e62\u001b[0m\n",
            "\u001b[32m[I 2021-08-17 02:05:10,072]\u001b[0m Trial 0 finished with value: 0.84 and parameters: {'layer1': 6, 'layer2': 7}. Best is trial 0 with value: 0.84.\u001b[0m\n",
            "\u001b[32m[I 2021-08-17 02:05:10,140]\u001b[0m Trial 1 finished with value: 0.84 and parameters: {'layer1': 6, 'layer2': 1}. Best is trial 0 with value: 0.84.\u001b[0m\n"
          ],
          "name": "stderr"
        },
        {
          "output_type": "stream",
          "text": [
            "ACC TRAINING:0.80125\n",
            "ACC VALID:0.84\n",
            "Rede Neural (layer1=6.000000):\n",
            "Rede Neural (layer2=7.000000):\n",
            "ACC TRAINING:0.80125\n",
            "ACC VALID:0.84\n",
            "Rede Neural (layer1=6.000000):\n",
            "Rede Neural (layer2=1.000000):\n"
          ],
          "name": "stdout"
        },
        {
          "output_type": "stream",
          "text": [
            "\u001b[32m[I 2021-08-17 02:05:10,438]\u001b[0m Trial 2 finished with value: 0.84 and parameters: {'layer1': 6, 'layer2': 6}. Best is trial 0 with value: 0.84.\u001b[0m\n"
          ],
          "name": "stderr"
        },
        {
          "output_type": "stream",
          "text": [
            "ACC TRAINING:0.80125\n",
            "ACC VALID:0.84\n",
            "Rede Neural (layer1=6.000000):\n",
            "Rede Neural (layer2=6.000000):\n"
          ],
          "name": "stdout"
        },
        {
          "output_type": "stream",
          "text": [
            "/usr/local/lib/python3.7/dist-packages/sklearn/neural_network/_multilayer_perceptron.py:617: ConvergenceWarning:\n",
            "\n",
            "Stochastic Optimizer: Maximum iterations (200) reached and the optimization hasn't converged yet.\n",
            "\n",
            "\u001b[32m[I 2021-08-17 02:05:10,895]\u001b[0m Trial 3 finished with value: 0.84 and parameters: {'layer1': 6, 'layer2': 2}. Best is trial 0 with value: 0.84.\u001b[0m\n"
          ],
          "name": "stderr"
        },
        {
          "output_type": "stream",
          "text": [
            "ACC TRAINING:0.79625\n",
            "ACC VALID:0.84\n",
            "Rede Neural (layer1=6.000000):\n",
            "Rede Neural (layer2=2.000000):\n"
          ],
          "name": "stdout"
        },
        {
          "output_type": "stream",
          "text": [
            "\u001b[32m[I 2021-08-17 02:05:11,338]\u001b[0m Trial 4 finished with value: 0.84 and parameters: {'layer1': 4, 'layer2': 7}. Best is trial 0 with value: 0.84.\u001b[0m\n",
            "\u001b[32m[I 2021-08-17 02:05:11,411]\u001b[0m Trial 5 finished with value: 0.84 and parameters: {'layer1': 3, 'layer2': 1}. Best is trial 0 with value: 0.84.\u001b[0m\n"
          ],
          "name": "stderr"
        },
        {
          "output_type": "stream",
          "text": [
            "ACC TRAINING:0.80125\n",
            "ACC VALID:0.84\n",
            "Rede Neural (layer1=4.000000):\n",
            "Rede Neural (layer2=7.000000):\n",
            "ACC TRAINING:0.80125\n",
            "ACC VALID:0.84\n",
            "Rede Neural (layer1=3.000000):\n",
            "Rede Neural (layer2=1.000000):\n"
          ],
          "name": "stdout"
        },
        {
          "output_type": "stream",
          "text": [
            "\u001b[32m[I 2021-08-17 02:05:11,711]\u001b[0m Trial 6 finished with value: 0.84 and parameters: {'layer1': 6, 'layer2': 6}. Best is trial 0 with value: 0.84.\u001b[0m\n"
          ],
          "name": "stderr"
        },
        {
          "output_type": "stream",
          "text": [
            "ACC TRAINING:0.80125\n",
            "ACC VALID:0.84\n",
            "Rede Neural (layer1=6.000000):\n",
            "Rede Neural (layer2=6.000000):\n"
          ],
          "name": "stdout"
        },
        {
          "output_type": "stream",
          "text": [
            "/usr/local/lib/python3.7/dist-packages/sklearn/neural_network/_multilayer_perceptron.py:617: ConvergenceWarning:\n",
            "\n",
            "Stochastic Optimizer: Maximum iterations (200) reached and the optimization hasn't converged yet.\n",
            "\n",
            "\u001b[32m[I 2021-08-17 02:05:12,197]\u001b[0m Trial 7 finished with value: 0.84 and parameters: {'layer1': 7, 'layer2': 5}. Best is trial 0 with value: 0.84.\u001b[0m\n"
          ],
          "name": "stderr"
        },
        {
          "output_type": "stream",
          "text": [
            "ACC TRAINING:0.805\n",
            "ACC VALID:0.84\n",
            "Rede Neural (layer1=7.000000):\n",
            "Rede Neural (layer2=5.000000):\n"
          ],
          "name": "stdout"
        },
        {
          "output_type": "stream",
          "text": [
            "/usr/local/lib/python3.7/dist-packages/sklearn/neural_network/_multilayer_perceptron.py:617: ConvergenceWarning:\n",
            "\n",
            "Stochastic Optimizer: Maximum iterations (200) reached and the optimization hasn't converged yet.\n",
            "\n",
            "\u001b[32m[I 2021-08-17 02:05:12,685]\u001b[0m Trial 8 finished with value: 0.84 and parameters: {'layer1': 6, 'layer2': 5}. Best is trial 0 with value: 0.84.\u001b[0m\n"
          ],
          "name": "stderr"
        },
        {
          "output_type": "stream",
          "text": [
            "ACC TRAINING:0.80125\n",
            "ACC VALID:0.84\n",
            "Rede Neural (layer1=6.000000):\n",
            "Rede Neural (layer2=5.000000):\n"
          ],
          "name": "stdout"
        },
        {
          "output_type": "stream",
          "text": [
            "\u001b[32m[I 2021-08-17 02:05:12,972]\u001b[0m Trial 9 finished with value: 0.84 and parameters: {'layer1': 3, 'layer2': 5}. Best is trial 0 with value: 0.84.\u001b[0m\n"
          ],
          "name": "stderr"
        },
        {
          "output_type": "stream",
          "text": [
            "ACC TRAINING:0.80125\n",
            "ACC VALID:0.84\n",
            "Rede Neural (layer1=3.000000):\n",
            "Rede Neural (layer2=5.000000):\n"
          ],
          "name": "stdout"
        },
        {
          "output_type": "stream",
          "text": [
            "/usr/local/lib/python3.7/dist-packages/sklearn/neural_network/_multilayer_perceptron.py:617: ConvergenceWarning:\n",
            "\n",
            "Stochastic Optimizer: Maximum iterations (200) reached and the optimization hasn't converged yet.\n",
            "\n",
            "\u001b[32m[I 2021-08-17 02:05:13,474]\u001b[0m Trial 10 finished with value: 0.88 and parameters: {'layer1': 10, 'layer2': 10}. Best is trial 10 with value: 0.88.\u001b[0m\n"
          ],
          "name": "stderr"
        },
        {
          "output_type": "stream",
          "text": [
            "ACC TRAINING:0.87625\n",
            "ACC VALID:0.88\n",
            "Rede Neural (layer1=10.000000):\n",
            "Rede Neural (layer2=10.000000):\n"
          ],
          "name": "stdout"
        },
        {
          "output_type": "stream",
          "text": [
            "/usr/local/lib/python3.7/dist-packages/sklearn/neural_network/_multilayer_perceptron.py:617: ConvergenceWarning:\n",
            "\n",
            "Stochastic Optimizer: Maximum iterations (200) reached and the optimization hasn't converged yet.\n",
            "\n",
            "\u001b[32m[I 2021-08-17 02:05:13,965]\u001b[0m Trial 11 finished with value: 0.88 and parameters: {'layer1': 10, 'layer2': 10}. Best is trial 10 with value: 0.88.\u001b[0m\n"
          ],
          "name": "stderr"
        },
        {
          "output_type": "stream",
          "text": [
            "ACC TRAINING:0.87625\n",
            "ACC VALID:0.88\n",
            "Rede Neural (layer1=10.000000):\n",
            "Rede Neural (layer2=10.000000):\n"
          ],
          "name": "stdout"
        },
        {
          "output_type": "stream",
          "text": [
            "/usr/local/lib/python3.7/dist-packages/sklearn/neural_network/_multilayer_perceptron.py:617: ConvergenceWarning:\n",
            "\n",
            "Stochastic Optimizer: Maximum iterations (200) reached and the optimization hasn't converged yet.\n",
            "\n",
            "\u001b[32m[I 2021-08-17 02:05:14,464]\u001b[0m Trial 12 finished with value: 0.88 and parameters: {'layer1': 10, 'layer2': 10}. Best is trial 10 with value: 0.88.\u001b[0m\n"
          ],
          "name": "stderr"
        },
        {
          "output_type": "stream",
          "text": [
            "ACC TRAINING:0.87625\n",
            "ACC VALID:0.88\n",
            "Rede Neural (layer1=10.000000):\n",
            "Rede Neural (layer2=10.000000):\n"
          ],
          "name": "stdout"
        },
        {
          "output_type": "stream",
          "text": [
            "/usr/local/lib/python3.7/dist-packages/sklearn/neural_network/_multilayer_perceptron.py:617: ConvergenceWarning:\n",
            "\n",
            "Stochastic Optimizer: Maximum iterations (200) reached and the optimization hasn't converged yet.\n",
            "\n",
            "\u001b[32m[I 2021-08-17 02:05:14,943]\u001b[0m Trial 13 finished with value: 0.88 and parameters: {'layer1': 10, 'layer2': 10}. Best is trial 10 with value: 0.88.\u001b[0m\n"
          ],
          "name": "stderr"
        },
        {
          "output_type": "stream",
          "text": [
            "ACC TRAINING:0.87625\n",
            "ACC VALID:0.88\n",
            "Rede Neural (layer1=10.000000):\n",
            "Rede Neural (layer2=10.000000):\n"
          ],
          "name": "stdout"
        },
        {
          "output_type": "stream",
          "text": [
            "/usr/local/lib/python3.7/dist-packages/sklearn/neural_network/_multilayer_perceptron.py:617: ConvergenceWarning:\n",
            "\n",
            "Stochastic Optimizer: Maximum iterations (200) reached and the optimization hasn't converged yet.\n",
            "\n",
            "\u001b[32m[I 2021-08-17 02:05:15,427]\u001b[0m Trial 14 finished with value: 0.84 and parameters: {'layer1': 8, 'layer2': 9}. Best is trial 10 with value: 0.88.\u001b[0m\n"
          ],
          "name": "stderr"
        },
        {
          "output_type": "stream",
          "text": [
            "ACC TRAINING:0.80125\n",
            "ACC VALID:0.84\n",
            "Rede Neural (layer1=8.000000):\n",
            "Rede Neural (layer2=9.000000):\n"
          ],
          "name": "stdout"
        },
        {
          "output_type": "stream",
          "text": [
            "/usr/local/lib/python3.7/dist-packages/sklearn/neural_network/_multilayer_perceptron.py:617: ConvergenceWarning:\n",
            "\n",
            "Stochastic Optimizer: Maximum iterations (200) reached and the optimization hasn't converged yet.\n",
            "\n",
            "\u001b[32m[I 2021-08-17 02:05:15,905]\u001b[0m Trial 15 finished with value: 0.84 and parameters: {'layer1': 9, 'layer2': 8}. Best is trial 10 with value: 0.88.\u001b[0m\n"
          ],
          "name": "stderr"
        },
        {
          "output_type": "stream",
          "text": [
            "ACC TRAINING:0.80125\n",
            "ACC VALID:0.84\n",
            "Rede Neural (layer1=9.000000):\n",
            "Rede Neural (layer2=8.000000):\n"
          ],
          "name": "stdout"
        },
        {
          "output_type": "stream",
          "text": [
            "\u001b[32m[I 2021-08-17 02:05:16,285]\u001b[0m Trial 16 finished with value: 0.84 and parameters: {'layer1': 1, 'layer2': 9}. Best is trial 10 with value: 0.88.\u001b[0m\n"
          ],
          "name": "stderr"
        },
        {
          "output_type": "stream",
          "text": [
            "ACC TRAINING:0.80125\n",
            "ACC VALID:0.84\n",
            "Rede Neural (layer1=1.000000):\n",
            "Rede Neural (layer2=9.000000):\n"
          ],
          "name": "stdout"
        },
        {
          "output_type": "stream",
          "text": [
            "/usr/local/lib/python3.7/dist-packages/sklearn/neural_network/_multilayer_perceptron.py:617: ConvergenceWarning:\n",
            "\n",
            "Stochastic Optimizer: Maximum iterations (200) reached and the optimization hasn't converged yet.\n",
            "\n",
            "\u001b[32m[I 2021-08-17 02:05:16,769]\u001b[0m Trial 17 finished with value: 0.84 and parameters: {'layer1': 8, 'layer2': 9}. Best is trial 10 with value: 0.88.\u001b[0m\n"
          ],
          "name": "stderr"
        },
        {
          "output_type": "stream",
          "text": [
            "ACC TRAINING:0.80125\n",
            "ACC VALID:0.84\n",
            "Rede Neural (layer1=8.000000):\n",
            "Rede Neural (layer2=9.000000):\n"
          ],
          "name": "stdout"
        },
        {
          "output_type": "stream",
          "text": [
            "/usr/local/lib/python3.7/dist-packages/sklearn/neural_network/_multilayer_perceptron.py:617: ConvergenceWarning:\n",
            "\n",
            "Stochastic Optimizer: Maximum iterations (200) reached and the optimization hasn't converged yet.\n",
            "\n",
            "\u001b[32m[I 2021-08-17 02:05:17,273]\u001b[0m Trial 18 finished with value: 0.85 and parameters: {'layer1': 9, 'layer2': 10}. Best is trial 10 with value: 0.88.\u001b[0m\n"
          ],
          "name": "stderr"
        },
        {
          "output_type": "stream",
          "text": [
            "ACC TRAINING:0.84125\n",
            "ACC VALID:0.85\n",
            "Rede Neural (layer1=9.000000):\n",
            "Rede Neural (layer2=10.000000):\n"
          ],
          "name": "stdout"
        },
        {
          "output_type": "stream",
          "text": [
            "/usr/local/lib/python3.7/dist-packages/sklearn/neural_network/_multilayer_perceptron.py:617: ConvergenceWarning:\n",
            "\n",
            "Stochastic Optimizer: Maximum iterations (200) reached and the optimization hasn't converged yet.\n",
            "\n",
            "\u001b[32m[I 2021-08-17 02:05:17,731]\u001b[0m Trial 19 finished with value: 0.84 and parameters: {'layer1': 10, 'layer2': 3}. Best is trial 10 with value: 0.88.\u001b[0m\n"
          ],
          "name": "stderr"
        },
        {
          "output_type": "stream",
          "text": [
            "ACC TRAINING:0.80125\n",
            "ACC VALID:0.84\n",
            "Rede Neural (layer1=10.000000):\n",
            "Rede Neural (layer2=3.000000):\n"
          ],
          "name": "stdout"
        },
        {
          "output_type": "stream",
          "text": [
            "/usr/local/lib/python3.7/dist-packages/sklearn/neural_network/_multilayer_perceptron.py:617: ConvergenceWarning:\n",
            "\n",
            "Stochastic Optimizer: Maximum iterations (200) reached and the optimization hasn't converged yet.\n",
            "\n",
            "\u001b[32m[I 2021-08-17 02:05:18,190]\u001b[0m Trial 20 finished with value: 0.85 and parameters: {'layer1': 8, 'layer2': 8}. Best is trial 10 with value: 0.88.\u001b[0m\n"
          ],
          "name": "stderr"
        },
        {
          "output_type": "stream",
          "text": [
            "ACC TRAINING:0.83\n",
            "ACC VALID:0.85\n",
            "Rede Neural (layer1=8.000000):\n",
            "Rede Neural (layer2=8.000000):\n"
          ],
          "name": "stdout"
        },
        {
          "output_type": "stream",
          "text": [
            "/usr/local/lib/python3.7/dist-packages/sklearn/neural_network/_multilayer_perceptron.py:617: ConvergenceWarning:\n",
            "\n",
            "Stochastic Optimizer: Maximum iterations (200) reached and the optimization hasn't converged yet.\n",
            "\n",
            "\u001b[32m[I 2021-08-17 02:05:18,671]\u001b[0m Trial 21 finished with value: 0.88 and parameters: {'layer1': 10, 'layer2': 10}. Best is trial 10 with value: 0.88.\u001b[0m\n"
          ],
          "name": "stderr"
        },
        {
          "output_type": "stream",
          "text": [
            "ACC TRAINING:0.87625\n",
            "ACC VALID:0.88\n",
            "Rede Neural (layer1=10.000000):\n",
            "Rede Neural (layer2=10.000000):\n"
          ],
          "name": "stdout"
        },
        {
          "output_type": "stream",
          "text": [
            "/usr/local/lib/python3.7/dist-packages/sklearn/neural_network/_multilayer_perceptron.py:617: ConvergenceWarning:\n",
            "\n",
            "Stochastic Optimizer: Maximum iterations (200) reached and the optimization hasn't converged yet.\n",
            "\n",
            "\u001b[32m[I 2021-08-17 02:05:19,168]\u001b[0m Trial 22 finished with value: 0.85 and parameters: {'layer1': 9, 'layer2': 10}. Best is trial 10 with value: 0.88.\u001b[0m\n"
          ],
          "name": "stderr"
        },
        {
          "output_type": "stream",
          "text": [
            "ACC TRAINING:0.84125\n",
            "ACC VALID:0.85\n",
            "Rede Neural (layer1=9.000000):\n",
            "Rede Neural (layer2=10.000000):\n"
          ],
          "name": "stdout"
        },
        {
          "output_type": "stream",
          "text": [
            "/usr/local/lib/python3.7/dist-packages/sklearn/neural_network/_multilayer_perceptron.py:617: ConvergenceWarning:\n",
            "\n",
            "Stochastic Optimizer: Maximum iterations (200) reached and the optimization hasn't converged yet.\n",
            "\n",
            "\u001b[32m[I 2021-08-17 02:05:19,652]\u001b[0m Trial 23 finished with value: 0.86 and parameters: {'layer1': 10, 'layer2': 8}. Best is trial 10 with value: 0.88.\u001b[0m\n"
          ],
          "name": "stderr"
        },
        {
          "output_type": "stream",
          "text": [
            "ACC TRAINING:0.83625\n",
            "ACC VALID:0.86\n",
            "Rede Neural (layer1=10.000000):\n",
            "Rede Neural (layer2=8.000000):\n"
          ],
          "name": "stdout"
        },
        {
          "output_type": "stream",
          "text": [
            "/usr/local/lib/python3.7/dist-packages/sklearn/neural_network/_multilayer_perceptron.py:617: ConvergenceWarning:\n",
            "\n",
            "Stochastic Optimizer: Maximum iterations (200) reached and the optimization hasn't converged yet.\n",
            "\n",
            "\u001b[32m[I 2021-08-17 02:05:20,122]\u001b[0m Trial 24 finished with value: 0.88 and parameters: {'layer1': 9, 'layer2': 9}. Best is trial 10 with value: 0.88.\u001b[0m\n"
          ],
          "name": "stderr"
        },
        {
          "output_type": "stream",
          "text": [
            "ACC TRAINING:0.855\n",
            "ACC VALID:0.88\n",
            "Rede Neural (layer1=9.000000):\n",
            "Rede Neural (layer2=9.000000):\n"
          ],
          "name": "stdout"
        },
        {
          "output_type": "stream",
          "text": [
            "/usr/local/lib/python3.7/dist-packages/sklearn/neural_network/_multilayer_perceptron.py:617: ConvergenceWarning:\n",
            "\n",
            "Stochastic Optimizer: Maximum iterations (200) reached and the optimization hasn't converged yet.\n",
            "\n",
            "\u001b[32m[I 2021-08-17 02:05:20,657]\u001b[0m Trial 25 finished with value: 0.85 and parameters: {'layer1': 8, 'layer2': 10}. Best is trial 10 with value: 0.88.\u001b[0m\n"
          ],
          "name": "stderr"
        },
        {
          "output_type": "stream",
          "text": [
            "ACC TRAINING:0.8425\n",
            "ACC VALID:0.85\n",
            "Rede Neural (layer1=8.000000):\n",
            "Rede Neural (layer2=10.000000):\n"
          ],
          "name": "stdout"
        },
        {
          "output_type": "stream",
          "text": [
            "/usr/local/lib/python3.7/dist-packages/sklearn/neural_network/_multilayer_perceptron.py:617: ConvergenceWarning:\n",
            "\n",
            "Stochastic Optimizer: Maximum iterations (200) reached and the optimization hasn't converged yet.\n",
            "\n",
            "\u001b[32m[I 2021-08-17 02:05:21,129]\u001b[0m Trial 26 finished with value: 0.86 and parameters: {'layer1': 10, 'layer2': 8}. Best is trial 10 with value: 0.88.\u001b[0m\n"
          ],
          "name": "stderr"
        },
        {
          "output_type": "stream",
          "text": [
            "ACC TRAINING:0.83625\n",
            "ACC VALID:0.86\n",
            "Rede Neural (layer1=10.000000):\n",
            "Rede Neural (layer2=8.000000):\n"
          ],
          "name": "stdout"
        },
        {
          "output_type": "stream",
          "text": [
            "/usr/local/lib/python3.7/dist-packages/sklearn/neural_network/_multilayer_perceptron.py:617: ConvergenceWarning:\n",
            "\n",
            "Stochastic Optimizer: Maximum iterations (200) reached and the optimization hasn't converged yet.\n",
            "\n",
            "\u001b[32m[I 2021-08-17 02:05:21,607]\u001b[0m Trial 27 finished with value: 0.88 and parameters: {'layer1': 9, 'layer2': 9}. Best is trial 10 with value: 0.88.\u001b[0m\n"
          ],
          "name": "stderr"
        },
        {
          "output_type": "stream",
          "text": [
            "ACC TRAINING:0.855\n",
            "ACC VALID:0.88\n",
            "Rede Neural (layer1=9.000000):\n",
            "Rede Neural (layer2=9.000000):\n"
          ],
          "name": "stdout"
        },
        {
          "output_type": "stream",
          "text": [
            "/usr/local/lib/python3.7/dist-packages/sklearn/neural_network/_multilayer_perceptron.py:617: ConvergenceWarning:\n",
            "\n",
            "Stochastic Optimizer: Maximum iterations (200) reached and the optimization hasn't converged yet.\n",
            "\n",
            "\u001b[32m[I 2021-08-17 02:05:22,067]\u001b[0m Trial 28 finished with value: 0.84 and parameters: {'layer1': 7, 'layer2': 7}. Best is trial 10 with value: 0.88.\u001b[0m\n"
          ],
          "name": "stderr"
        },
        {
          "output_type": "stream",
          "text": [
            "ACC TRAINING:0.80125\n",
            "ACC VALID:0.84\n",
            "Rede Neural (layer1=7.000000):\n",
            "Rede Neural (layer2=7.000000):\n"
          ],
          "name": "stdout"
        },
        {
          "output_type": "stream",
          "text": [
            "/usr/local/lib/python3.7/dist-packages/sklearn/neural_network/_multilayer_perceptron.py:617: ConvergenceWarning:\n",
            "\n",
            "Stochastic Optimizer: Maximum iterations (200) reached and the optimization hasn't converged yet.\n",
            "\n",
            "\u001b[32m[I 2021-08-17 02:05:22,543]\u001b[0m Trial 29 finished with value: 0.89 and parameters: {'layer1': 9, 'layer2': 7}. Best is trial 29 with value: 0.89.\u001b[0m\n"
          ],
          "name": "stderr"
        },
        {
          "output_type": "stream",
          "text": [
            "ACC TRAINING:0.8775\n",
            "ACC VALID:0.89\n",
            "Rede Neural (layer1=9.000000):\n",
            "Rede Neural (layer2=7.000000):\n"
          ],
          "name": "stdout"
        },
        {
          "output_type": "stream",
          "text": [
            "/usr/local/lib/python3.7/dist-packages/sklearn/neural_network/_multilayer_perceptron.py:617: ConvergenceWarning:\n",
            "\n",
            "Stochastic Optimizer: Maximum iterations (200) reached and the optimization hasn't converged yet.\n",
            "\n",
            "\u001b[32m[I 2021-08-17 02:05:23,052]\u001b[0m Trial 30 finished with value: 0.84 and parameters: {'layer1': 7, 'layer2': 7}. Best is trial 29 with value: 0.89.\u001b[0m\n"
          ],
          "name": "stderr"
        },
        {
          "output_type": "stream",
          "text": [
            "ACC TRAINING:0.80125\n",
            "ACC VALID:0.84\n",
            "Rede Neural (layer1=7.000000):\n",
            "Rede Neural (layer2=7.000000):\n"
          ],
          "name": "stdout"
        },
        {
          "output_type": "stream",
          "text": [
            "/usr/local/lib/python3.7/dist-packages/sklearn/neural_network/_multilayer_perceptron.py:617: ConvergenceWarning:\n",
            "\n",
            "Stochastic Optimizer: Maximum iterations (200) reached and the optimization hasn't converged yet.\n",
            "\n",
            "\u001b[32m[I 2021-08-17 02:05:23,530]\u001b[0m Trial 31 finished with value: 0.88 and parameters: {'layer1': 9, 'layer2': 9}. Best is trial 29 with value: 0.89.\u001b[0m\n"
          ],
          "name": "stderr"
        },
        {
          "output_type": "stream",
          "text": [
            "ACC TRAINING:0.855\n",
            "ACC VALID:0.88\n",
            "Rede Neural (layer1=9.000000):\n",
            "Rede Neural (layer2=9.000000):\n"
          ],
          "name": "stdout"
        },
        {
          "output_type": "stream",
          "text": [
            "/usr/local/lib/python3.7/dist-packages/sklearn/neural_network/_multilayer_perceptron.py:617: ConvergenceWarning:\n",
            "\n",
            "Stochastic Optimizer: Maximum iterations (200) reached and the optimization hasn't converged yet.\n",
            "\n",
            "\u001b[32m[I 2021-08-17 02:05:24,014]\u001b[0m Trial 32 finished with value: 0.88 and parameters: {'layer1': 9, 'layer2': 9}. Best is trial 29 with value: 0.89.\u001b[0m\n"
          ],
          "name": "stderr"
        },
        {
          "output_type": "stream",
          "text": [
            "ACC TRAINING:0.855\n",
            "ACC VALID:0.88\n",
            "Rede Neural (layer1=9.000000):\n",
            "Rede Neural (layer2=9.000000):\n"
          ],
          "name": "stdout"
        },
        {
          "output_type": "stream",
          "text": [
            "/usr/local/lib/python3.7/dist-packages/sklearn/neural_network/_multilayer_perceptron.py:617: ConvergenceWarning:\n",
            "\n",
            "Stochastic Optimizer: Maximum iterations (200) reached and the optimization hasn't converged yet.\n",
            "\n",
            "\u001b[32m[I 2021-08-17 02:05:24,482]\u001b[0m Trial 33 finished with value: 0.88 and parameters: {'layer1': 9, 'layer2': 9}. Best is trial 29 with value: 0.89.\u001b[0m\n"
          ],
          "name": "stderr"
        },
        {
          "output_type": "stream",
          "text": [
            "ACC TRAINING:0.855\n",
            "ACC VALID:0.88\n",
            "Rede Neural (layer1=9.000000):\n",
            "Rede Neural (layer2=9.000000):\n"
          ],
          "name": "stdout"
        },
        {
          "output_type": "stream",
          "text": [
            "/usr/local/lib/python3.7/dist-packages/sklearn/neural_network/_multilayer_perceptron.py:617: ConvergenceWarning:\n",
            "\n",
            "Stochastic Optimizer: Maximum iterations (200) reached and the optimization hasn't converged yet.\n",
            "\n",
            "\u001b[32m[I 2021-08-17 02:05:24,955]\u001b[0m Trial 34 finished with value: 0.84 and parameters: {'layer1': 8, 'layer2': 7}. Best is trial 29 with value: 0.89.\u001b[0m\n"
          ],
          "name": "stderr"
        },
        {
          "output_type": "stream",
          "text": [
            "ACC TRAINING:0.80125\n",
            "ACC VALID:0.84\n",
            "Rede Neural (layer1=8.000000):\n",
            "Rede Neural (layer2=7.000000):\n"
          ],
          "name": "stdout"
        },
        {
          "output_type": "stream",
          "text": [
            "/usr/local/lib/python3.7/dist-packages/sklearn/neural_network/_multilayer_perceptron.py:617: ConvergenceWarning:\n",
            "\n",
            "Stochastic Optimizer: Maximum iterations (200) reached and the optimization hasn't converged yet.\n",
            "\n",
            "\u001b[32m[I 2021-08-17 02:05:25,444]\u001b[0m Trial 35 finished with value: 0.84 and parameters: {'layer1': 9, 'layer2': 6}. Best is trial 29 with value: 0.89.\u001b[0m\n"
          ],
          "name": "stderr"
        },
        {
          "output_type": "stream",
          "text": [
            "ACC TRAINING:0.80125\n",
            "ACC VALID:0.84\n",
            "Rede Neural (layer1=9.000000):\n",
            "Rede Neural (layer2=6.000000):\n"
          ],
          "name": "stdout"
        },
        {
          "output_type": "stream",
          "text": [
            "/usr/local/lib/python3.7/dist-packages/sklearn/neural_network/_multilayer_perceptron.py:617: ConvergenceWarning:\n",
            "\n",
            "Stochastic Optimizer: Maximum iterations (200) reached and the optimization hasn't converged yet.\n",
            "\n",
            "\u001b[32m[I 2021-08-17 02:05:25,922]\u001b[0m Trial 36 finished with value: 0.84 and parameters: {'layer1': 7, 'layer2': 8}. Best is trial 29 with value: 0.89.\u001b[0m\n"
          ],
          "name": "stderr"
        },
        {
          "output_type": "stream",
          "text": [
            "ACC TRAINING:0.80125\n",
            "ACC VALID:0.84\n",
            "Rede Neural (layer1=7.000000):\n",
            "Rede Neural (layer2=8.000000):\n"
          ],
          "name": "stdout"
        },
        {
          "output_type": "stream",
          "text": [
            "/usr/local/lib/python3.7/dist-packages/sklearn/neural_network/_multilayer_perceptron.py:617: ConvergenceWarning:\n",
            "\n",
            "Stochastic Optimizer: Maximum iterations (200) reached and the optimization hasn't converged yet.\n",
            "\n",
            "\u001b[32m[I 2021-08-17 02:05:26,373]\u001b[0m Trial 37 finished with value: 0.84 and parameters: {'layer1': 5, 'layer2': 4}. Best is trial 29 with value: 0.89.\u001b[0m\n"
          ],
          "name": "stderr"
        },
        {
          "output_type": "stream",
          "text": [
            "ACC TRAINING:0.7825\n",
            "ACC VALID:0.84\n",
            "Rede Neural (layer1=5.000000):\n",
            "Rede Neural (layer2=4.000000):\n"
          ],
          "name": "stdout"
        },
        {
          "output_type": "stream",
          "text": [
            "/usr/local/lib/python3.7/dist-packages/sklearn/neural_network/_multilayer_perceptron.py:617: ConvergenceWarning:\n",
            "\n",
            "Stochastic Optimizer: Maximum iterations (200) reached and the optimization hasn't converged yet.\n",
            "\n",
            "\u001b[32m[I 2021-08-17 02:05:26,859]\u001b[0m Trial 38 finished with value: 0.84 and parameters: {'layer1': 5, 'layer2': 8}. Best is trial 29 with value: 0.89.\u001b[0m\n"
          ],
          "name": "stderr"
        },
        {
          "output_type": "stream",
          "text": [
            "ACC TRAINING:0.80125\n",
            "ACC VALID:0.84\n",
            "Rede Neural (layer1=5.000000):\n",
            "Rede Neural (layer2=8.000000):\n"
          ],
          "name": "stdout"
        },
        {
          "output_type": "stream",
          "text": [
            "/usr/local/lib/python3.7/dist-packages/sklearn/neural_network/_multilayer_perceptron.py:617: ConvergenceWarning:\n",
            "\n",
            "Stochastic Optimizer: Maximum iterations (200) reached and the optimization hasn't converged yet.\n",
            "\n",
            "\u001b[32m[I 2021-08-17 02:05:27,330]\u001b[0m Trial 39 finished with value: 0.84 and parameters: {'layer1': 8, 'layer2': 6}. Best is trial 29 with value: 0.89.\u001b[0m\n"
          ],
          "name": "stderr"
        },
        {
          "output_type": "stream",
          "text": [
            "ACC TRAINING:0.79875\n",
            "ACC VALID:0.84\n",
            "Rede Neural (layer1=8.000000):\n",
            "Rede Neural (layer2=6.000000):\n"
          ],
          "name": "stdout"
        }
      ]
    },
    {
      "cell_type": "code",
      "metadata": {
        "colab": {
          "base_uri": "https://localhost:8080/"
        },
        "id": "DPMLa4KS6RAX",
        "outputId": "36b0b1c4-547a-4b40-ebd7-055389db3796"
      },
      "source": [
        "#Exeutando o melhor modelo nos dados de validação\n",
        "# [I 2021-08-17 02:05:22,543] Trial 29 finished with value: 0.89 and parameters: {'layer1': 9, 'layer2': 7}. Best is trial 29 with value: 0.89.\n",
        "\n",
        "#Construindo o modelo\n",
        "model =  MLPClassifier(solver='adam', hidden_layer_sizes=(9, 7), random_state=1, shuffle=False)\n",
        "model.fit(Xtrain, ytrain)\n",
        "\n",
        "#Testando o modelo\n",
        "ypred_test = model.predict(Xtest)\n",
        "ypred_train = model.predict(Xtrain)\n",
        "acc_test = accuracy_score(ytest, ypred_test)\n",
        "acc_train = accuracy_score(ytrain, ypred_train)\n",
        "\n",
        "print(\"ACC TRAINING:\" + str(acc_train))\n",
        "print(\"ACC TEST:\" + str(acc_test))"
      ],
      "execution_count": 26,
      "outputs": [
        {
          "output_type": "stream",
          "text": [
            "ACC TRAINING:0.8775\n",
            "ACC TEST:0.82\n"
          ],
          "name": "stdout"
        },
        {
          "output_type": "stream",
          "text": [
            "/usr/local/lib/python3.7/dist-packages/sklearn/neural_network/_multilayer_perceptron.py:617: ConvergenceWarning:\n",
            "\n",
            "Stochastic Optimizer: Maximum iterations (200) reached and the optimization hasn't converged yet.\n",
            "\n"
          ],
          "name": "stderr"
        }
      ]
    },
    {
      "cell_type": "code",
      "metadata": {
        "colab": {
          "base_uri": "https://localhost:8080/"
        },
        "id": "WMbFtRMgmkBB",
        "outputId": "740b12e6-dc76-4de1-b4e8-a6f9605213e9"
      },
      "source": [
        "#SVM (C-Support Vector Classification)\n",
        "from sklearn.svm import SVC\n",
        "def SVMObjective(trial):\n",
        "    with mlflow.start_run(run_name=\"SVM\"):\n",
        "\n",
        "        #Especificando o range dos hiperparâmetros\n",
        "        C = trial.suggest_int('C', 1, 10)\n",
        "        degree = trial.suggest_int('degree', 1, 3)        \n",
        "        \n",
        "        #Construindo o modelo\n",
        "        model =  SVC(C=C, degree=degree, kernel='poly')\n",
        "        model.fit(Xtrain, ytrain)\n",
        "\n",
        "        #Validando o modelo\n",
        "        ypred_valid = model.predict(Xvalid)\n",
        "        ypred_train = model.predict(Xtrain)\n",
        "        acc_valid = accuracy_score(yvalid, ypred_valid)\n",
        "        acc_train = accuracy_score(ytrain, ypred_train)\n",
        "            \n",
        "        mlflow.log_param('C', C)\n",
        "        mlflow.log_param('degree', degree)\n",
        "        mlflow.log_metric('acc_valid', acc_valid)\n",
        "\n",
        "        print(\"ACC TRAINING:\" + str(acc_train))\n",
        "        print(\"ACC VALID:\" + str(acc_valid))\n",
        "        print(\"Rede Neural (C=%f):\" % (C))\n",
        "        print(\"Rede Neural (degree=%f):\" % (degree))\n",
        "\n",
        "        tracking_url_type_store = urlparse(mlflow.get_tracking_uri()).scheme\n",
        "\n",
        "        # Model registry does not work with file store\n",
        "        if tracking_url_type_store != \"file\":\n",
        "            mlflow.sklearn.log_model(model, \"model\", registered_model_name=\"Rede Neural\")\n",
        "        else:\n",
        "            mlflow.sklearn.log_model(model, \"model\")\n",
        "\n",
        "    # output: evaluation score\n",
        "    return acc_valid\n",
        "\n",
        "study_svm = optuna.create_study(direction='maximize')\n",
        "study_svm.optimize(SVMObjective, n_trials=40)"
      ],
      "execution_count": 30,
      "outputs": [
        {
          "output_type": "stream",
          "text": [
            "\u001b[32m[I 2021-08-17 02:22:16,876]\u001b[0m A new study created in memory with name: no-name-9e38cb77-0af7-4f56-a25f-86d552c456b3\u001b[0m\n",
            "\u001b[32m[I 2021-08-17 02:22:16,937]\u001b[0m Trial 0 finished with value: 0.88 and parameters: {'C': 7, 'degree': 1}. Best is trial 0 with value: 0.88.\u001b[0m\n",
            "\u001b[32m[I 2021-08-17 02:22:16,993]\u001b[0m Trial 1 finished with value: 0.88 and parameters: {'C': 4, 'degree': 1}. Best is trial 0 with value: 0.88.\u001b[0m\n"
          ],
          "name": "stderr"
        },
        {
          "output_type": "stream",
          "text": [
            "ACC TRAINING:0.86875\n",
            "ACC VALID:0.88\n",
            "Rede Neural (C=7.000000):\n",
            "Rede Neural (degree=1.000000):\n",
            "ACC TRAINING:0.86875\n",
            "ACC VALID:0.88\n",
            "Rede Neural (C=4.000000):\n",
            "Rede Neural (degree=1.000000):\n"
          ],
          "name": "stdout"
        },
        {
          "output_type": "stream",
          "text": [
            "\u001b[32m[I 2021-08-17 02:22:20,860]\u001b[0m Trial 2 finished with value: 0.9 and parameters: {'C': 4, 'degree': 3}. Best is trial 2 with value: 0.9.\u001b[0m\n",
            "\u001b[32m[I 2021-08-17 02:22:20,927]\u001b[0m Trial 3 finished with value: 0.9 and parameters: {'C': 2, 'degree': 2}. Best is trial 2 with value: 0.9.\u001b[0m\n"
          ],
          "name": "stderr"
        },
        {
          "output_type": "stream",
          "text": [
            "ACC TRAINING:0.87125\n",
            "ACC VALID:0.9\n",
            "Rede Neural (C=4.000000):\n",
            "Rede Neural (degree=3.000000):\n",
            "ACC TRAINING:0.875\n",
            "ACC VALID:0.9\n",
            "Rede Neural (C=2.000000):\n",
            "Rede Neural (degree=2.000000):\n"
          ],
          "name": "stdout"
        },
        {
          "output_type": "stream",
          "text": [
            "\u001b[32m[I 2021-08-17 02:22:21,642]\u001b[0m Trial 4 finished with value: 0.9 and parameters: {'C': 7, 'degree': 2}. Best is trial 2 with value: 0.9.\u001b[0m\n",
            "\u001b[32m[I 2021-08-17 02:22:21,696]\u001b[0m Trial 5 finished with value: 0.88 and parameters: {'C': 7, 'degree': 1}. Best is trial 2 with value: 0.9.\u001b[0m\n",
            "\u001b[32m[I 2021-08-17 02:22:21,770]\u001b[0m Trial 6 finished with value: 0.9 and parameters: {'C': 4, 'degree': 2}. Best is trial 2 with value: 0.9.\u001b[0m\n",
            "\u001b[32m[I 2021-08-17 02:22:21,822]\u001b[0m Trial 7 finished with value: 0.88 and parameters: {'C': 7, 'degree': 1}. Best is trial 2 with value: 0.9.\u001b[0m\n"
          ],
          "name": "stderr"
        },
        {
          "output_type": "stream",
          "text": [
            "ACC TRAINING:0.87625\n",
            "ACC VALID:0.9\n",
            "Rede Neural (C=7.000000):\n",
            "Rede Neural (degree=2.000000):\n",
            "ACC TRAINING:0.86875\n",
            "ACC VALID:0.88\n",
            "Rede Neural (C=7.000000):\n",
            "Rede Neural (degree=1.000000):\n",
            "ACC TRAINING:0.875\n",
            "ACC VALID:0.9\n",
            "Rede Neural (C=4.000000):\n",
            "Rede Neural (degree=2.000000):\n",
            "ACC TRAINING:0.86875\n",
            "ACC VALID:0.88\n",
            "Rede Neural (C=7.000000):\n",
            "Rede Neural (degree=1.000000):\n"
          ],
          "name": "stdout"
        },
        {
          "output_type": "stream",
          "text": [
            "\u001b[32m[I 2021-08-17 02:22:24,471]\u001b[0m Trial 8 finished with value: 0.9 and parameters: {'C': 8, 'degree': 3}. Best is trial 2 with value: 0.9.\u001b[0m\n",
            "\u001b[32m[I 2021-08-17 02:22:24,546]\u001b[0m Trial 9 finished with value: 0.9 and parameters: {'C': 4, 'degree': 2}. Best is trial 2 with value: 0.9.\u001b[0m\n"
          ],
          "name": "stderr"
        },
        {
          "output_type": "stream",
          "text": [
            "ACC TRAINING:0.87\n",
            "ACC VALID:0.9\n",
            "Rede Neural (C=8.000000):\n",
            "Rede Neural (degree=3.000000):\n",
            "ACC TRAINING:0.875\n",
            "ACC VALID:0.9\n",
            "Rede Neural (C=4.000000):\n",
            "Rede Neural (degree=2.000000):\n"
          ],
          "name": "stdout"
        },
        {
          "output_type": "stream",
          "text": [
            "\u001b[32m[I 2021-08-17 02:22:31,637]\u001b[0m Trial 10 finished with value: 0.9 and parameters: {'C': 10, 'degree': 3}. Best is trial 2 with value: 0.9.\u001b[0m\n",
            "\u001b[32m[I 2021-08-17 02:22:31,782]\u001b[0m Trial 11 finished with value: 0.9 and parameters: {'C': 1, 'degree': 3}. Best is trial 2 with value: 0.9.\u001b[0m\n"
          ],
          "name": "stderr"
        },
        {
          "output_type": "stream",
          "text": [
            "ACC TRAINING:0.87125\n",
            "ACC VALID:0.9\n",
            "Rede Neural (C=10.000000):\n",
            "Rede Neural (degree=3.000000):\n",
            "ACC TRAINING:0.875\n",
            "ACC VALID:0.9\n",
            "Rede Neural (C=1.000000):\n",
            "Rede Neural (degree=3.000000):\n"
          ],
          "name": "stdout"
        },
        {
          "output_type": "stream",
          "text": [
            "\u001b[32m[I 2021-08-17 02:22:31,941]\u001b[0m Trial 12 finished with value: 0.9 and parameters: {'C': 1, 'degree': 3}. Best is trial 2 with value: 0.9.\u001b[0m\n",
            "\u001b[32m[I 2021-08-17 02:22:32,019]\u001b[0m Trial 13 finished with value: 0.9 and parameters: {'C': 3, 'degree': 2}. Best is trial 2 with value: 0.9.\u001b[0m\n",
            "\u001b[32m[I 2021-08-17 02:22:32,090]\u001b[0m Trial 14 finished with value: 0.9 and parameters: {'C': 2, 'degree': 2}. Best is trial 2 with value: 0.9.\u001b[0m\n"
          ],
          "name": "stderr"
        },
        {
          "output_type": "stream",
          "text": [
            "ACC TRAINING:0.875\n",
            "ACC VALID:0.9\n",
            "Rede Neural (C=1.000000):\n",
            "Rede Neural (degree=3.000000):\n",
            "ACC TRAINING:0.875\n",
            "ACC VALID:0.9\n",
            "Rede Neural (C=3.000000):\n",
            "Rede Neural (degree=2.000000):\n",
            "ACC TRAINING:0.875\n",
            "ACC VALID:0.9\n",
            "Rede Neural (C=2.000000):\n",
            "Rede Neural (degree=2.000000):\n"
          ],
          "name": "stdout"
        },
        {
          "output_type": "stream",
          "text": [
            "\u001b[32m[I 2021-08-17 02:22:34,334]\u001b[0m Trial 15 finished with value: 0.9 and parameters: {'C': 5, 'degree': 3}. Best is trial 2 with value: 0.9.\u001b[0m\n",
            "\u001b[32m[I 2021-08-17 02:22:34,406]\u001b[0m Trial 16 finished with value: 0.9 and parameters: {'C': 2, 'degree': 2}. Best is trial 2 with value: 0.9.\u001b[0m\n"
          ],
          "name": "stderr"
        },
        {
          "output_type": "stream",
          "text": [
            "ACC TRAINING:0.87125\n",
            "ACC VALID:0.9\n",
            "Rede Neural (C=5.000000):\n",
            "Rede Neural (degree=3.000000):\n",
            "ACC TRAINING:0.875\n",
            "ACC VALID:0.9\n",
            "Rede Neural (C=2.000000):\n",
            "Rede Neural (degree=2.000000):\n"
          ],
          "name": "stdout"
        },
        {
          "output_type": "stream",
          "text": [
            "\u001b[32m[I 2021-08-17 02:22:41,459]\u001b[0m Trial 17 finished with value: 0.9 and parameters: {'C': 10, 'degree': 3}. Best is trial 2 with value: 0.9.\u001b[0m\n"
          ],
          "name": "stderr"
        },
        {
          "output_type": "stream",
          "text": [
            "ACC TRAINING:0.87125\n",
            "ACC VALID:0.9\n",
            "Rede Neural (C=10.000000):\n",
            "Rede Neural (degree=3.000000):\n"
          ],
          "name": "stdout"
        },
        {
          "output_type": "stream",
          "text": [
            "\u001b[32m[I 2021-08-17 02:22:45,593]\u001b[0m Trial 18 finished with value: 0.9 and parameters: {'C': 9, 'degree': 3}. Best is trial 2 with value: 0.9.\u001b[0m\n",
            "\u001b[32m[I 2021-08-17 02:22:45,678]\u001b[0m Trial 19 finished with value: 0.9 and parameters: {'C': 5, 'degree': 2}. Best is trial 2 with value: 0.9.\u001b[0m\n"
          ],
          "name": "stderr"
        },
        {
          "output_type": "stream",
          "text": [
            "ACC TRAINING:0.87\n",
            "ACC VALID:0.9\n",
            "Rede Neural (C=9.000000):\n",
            "Rede Neural (degree=3.000000):\n",
            "ACC TRAINING:0.87625\n",
            "ACC VALID:0.9\n",
            "Rede Neural (C=5.000000):\n",
            "Rede Neural (degree=2.000000):\n"
          ],
          "name": "stdout"
        },
        {
          "output_type": "stream",
          "text": [
            "\u001b[32m[I 2021-08-17 02:22:45,824]\u001b[0m Trial 20 finished with value: 0.9 and parameters: {'C': 10, 'degree': 2}. Best is trial 2 with value: 0.9.\u001b[0m\n"
          ],
          "name": "stderr"
        },
        {
          "output_type": "stream",
          "text": [
            "ACC TRAINING:0.8775\n",
            "ACC VALID:0.9\n",
            "Rede Neural (C=10.000000):\n",
            "Rede Neural (degree=2.000000):\n"
          ],
          "name": "stdout"
        },
        {
          "output_type": "stream",
          "text": [
            "\u001b[32m[I 2021-08-17 02:22:52,855]\u001b[0m Trial 21 finished with value: 0.9 and parameters: {'C': 10, 'degree': 3}. Best is trial 2 with value: 0.9.\u001b[0m\n"
          ],
          "name": "stderr"
        },
        {
          "output_type": "stream",
          "text": [
            "ACC TRAINING:0.87125\n",
            "ACC VALID:0.9\n",
            "Rede Neural (C=10.000000):\n",
            "Rede Neural (degree=3.000000):\n"
          ],
          "name": "stdout"
        },
        {
          "output_type": "stream",
          "text": [
            "\u001b[32m[I 2021-08-17 02:22:57,046]\u001b[0m Trial 22 finished with value: 0.9 and parameters: {'C': 9, 'degree': 3}. Best is trial 2 with value: 0.9.\u001b[0m\n",
            "\u001b[32m[I 2021-08-17 02:22:57,137]\u001b[0m Trial 23 finished with value: 0.9 and parameters: {'C': 6, 'degree': 2}. Best is trial 2 with value: 0.9.\u001b[0m\n"
          ],
          "name": "stderr"
        },
        {
          "output_type": "stream",
          "text": [
            "ACC TRAINING:0.87\n",
            "ACC VALID:0.9\n",
            "Rede Neural (C=9.000000):\n",
            "Rede Neural (degree=3.000000):\n",
            "ACC TRAINING:0.87625\n",
            "ACC VALID:0.9\n",
            "Rede Neural (C=6.000000):\n",
            "Rede Neural (degree=2.000000):\n"
          ],
          "name": "stdout"
        },
        {
          "output_type": "stream",
          "text": [
            "\u001b[32m[I 2021-08-17 02:23:01,351]\u001b[0m Trial 24 finished with value: 0.9 and parameters: {'C': 9, 'degree': 3}. Best is trial 2 with value: 0.9.\u001b[0m\n"
          ],
          "name": "stderr"
        },
        {
          "output_type": "stream",
          "text": [
            "ACC TRAINING:0.87\n",
            "ACC VALID:0.9\n",
            "Rede Neural (C=9.000000):\n",
            "Rede Neural (degree=3.000000):\n"
          ],
          "name": "stdout"
        },
        {
          "output_type": "stream",
          "text": [
            "\u001b[32m[I 2021-08-17 02:23:05,516]\u001b[0m Trial 25 finished with value: 0.9 and parameters: {'C': 9, 'degree': 3}. Best is trial 2 with value: 0.9.\u001b[0m\n"
          ],
          "name": "stderr"
        },
        {
          "output_type": "stream",
          "text": [
            "ACC TRAINING:0.87\n",
            "ACC VALID:0.9\n",
            "Rede Neural (C=9.000000):\n",
            "Rede Neural (degree=3.000000):\n"
          ],
          "name": "stdout"
        },
        {
          "output_type": "stream",
          "text": [
            "\u001b[32m[I 2021-08-17 02:23:09,395]\u001b[0m Trial 26 finished with value: 0.9 and parameters: {'C': 6, 'degree': 3}. Best is trial 2 with value: 0.9.\u001b[0m\n",
            "\u001b[32m[I 2021-08-17 02:23:09,482]\u001b[0m Trial 27 finished with value: 0.9 and parameters: {'C': 6, 'degree': 2}. Best is trial 2 with value: 0.9.\u001b[0m\n"
          ],
          "name": "stderr"
        },
        {
          "output_type": "stream",
          "text": [
            "ACC TRAINING:0.87125\n",
            "ACC VALID:0.9\n",
            "Rede Neural (C=6.000000):\n",
            "Rede Neural (degree=3.000000):\n",
            "ACC TRAINING:0.87625\n",
            "ACC VALID:0.9\n",
            "Rede Neural (C=6.000000):\n",
            "Rede Neural (degree=2.000000):\n"
          ],
          "name": "stdout"
        },
        {
          "output_type": "stream",
          "text": [
            "\u001b[32m[I 2021-08-17 02:23:12,126]\u001b[0m Trial 28 finished with value: 0.9 and parameters: {'C': 8, 'degree': 3}. Best is trial 2 with value: 0.9.\u001b[0m\n",
            "\u001b[32m[I 2021-08-17 02:23:12,189]\u001b[0m Trial 29 finished with value: 0.88 and parameters: {'C': 8, 'degree': 1}. Best is trial 2 with value: 0.9.\u001b[0m\n",
            "\u001b[32m[I 2021-08-17 02:23:12,287]\u001b[0m Trial 30 finished with value: 0.9 and parameters: {'C': 9, 'degree': 2}. Best is trial 2 with value: 0.9.\u001b[0m\n"
          ],
          "name": "stderr"
        },
        {
          "output_type": "stream",
          "text": [
            "ACC TRAINING:0.87\n",
            "ACC VALID:0.9\n",
            "Rede Neural (C=8.000000):\n",
            "Rede Neural (degree=3.000000):\n",
            "ACC TRAINING:0.86875\n",
            "ACC VALID:0.88\n",
            "Rede Neural (C=8.000000):\n",
            "Rede Neural (degree=1.000000):\n",
            "ACC TRAINING:0.8775\n",
            "ACC VALID:0.9\n",
            "Rede Neural (C=9.000000):\n",
            "Rede Neural (degree=2.000000):\n"
          ],
          "name": "stdout"
        },
        {
          "output_type": "stream",
          "text": [
            "\u001b[32m[I 2021-08-17 02:23:16,179]\u001b[0m Trial 31 finished with value: 0.9 and parameters: {'C': 6, 'degree': 3}. Best is trial 2 with value: 0.9.\u001b[0m\n"
          ],
          "name": "stderr"
        },
        {
          "output_type": "stream",
          "text": [
            "ACC TRAINING:0.87125\n",
            "ACC VALID:0.9\n",
            "Rede Neural (C=6.000000):\n",
            "Rede Neural (degree=3.000000):\n"
          ],
          "name": "stdout"
        },
        {
          "output_type": "stream",
          "text": [
            "\u001b[32m[I 2021-08-17 02:23:18,399]\u001b[0m Trial 32 finished with value: 0.9 and parameters: {'C': 5, 'degree': 3}. Best is trial 2 with value: 0.9.\u001b[0m\n"
          ],
          "name": "stderr"
        },
        {
          "output_type": "stream",
          "text": [
            "ACC TRAINING:0.87125\n",
            "ACC VALID:0.9\n",
            "Rede Neural (C=5.000000):\n",
            "Rede Neural (degree=3.000000):\n"
          ],
          "name": "stdout"
        },
        {
          "output_type": "stream",
          "text": [
            "\u001b[32m[I 2021-08-17 02:23:19,390]\u001b[0m Trial 33 finished with value: 0.9 and parameters: {'C': 8, 'degree': 2}. Best is trial 2 with value: 0.9.\u001b[0m\n"
          ],
          "name": "stderr"
        },
        {
          "output_type": "stream",
          "text": [
            "ACC TRAINING:0.87625\n",
            "ACC VALID:0.9\n",
            "Rede Neural (C=8.000000):\n",
            "Rede Neural (degree=2.000000):\n"
          ],
          "name": "stdout"
        },
        {
          "output_type": "stream",
          "text": [
            "\u001b[32m[I 2021-08-17 02:23:20,370]\u001b[0m Trial 34 finished with value: 0.9 and parameters: {'C': 8, 'degree': 2}. Best is trial 2 with value: 0.9.\u001b[0m\n"
          ],
          "name": "stderr"
        },
        {
          "output_type": "stream",
          "text": [
            "ACC TRAINING:0.87625\n",
            "ACC VALID:0.9\n",
            "Rede Neural (C=8.000000):\n",
            "Rede Neural (degree=2.000000):\n"
          ],
          "name": "stdout"
        },
        {
          "output_type": "stream",
          "text": [
            "\u001b[32m[I 2021-08-17 02:23:22,585]\u001b[0m Trial 35 finished with value: 0.9 and parameters: {'C': 5, 'degree': 3}. Best is trial 2 with value: 0.9.\u001b[0m\n",
            "\u001b[32m[I 2021-08-17 02:23:22,648]\u001b[0m Trial 36 finished with value: 0.88 and parameters: {'C': 10, 'degree': 1}. Best is trial 2 with value: 0.9.\u001b[0m\n"
          ],
          "name": "stderr"
        },
        {
          "output_type": "stream",
          "text": [
            "ACC TRAINING:0.87125\n",
            "ACC VALID:0.9\n",
            "Rede Neural (C=5.000000):\n",
            "Rede Neural (degree=3.000000):\n",
            "ACC TRAINING:0.86875\n",
            "ACC VALID:0.88\n",
            "Rede Neural (C=10.000000):\n",
            "Rede Neural (degree=1.000000):\n"
          ],
          "name": "stdout"
        },
        {
          "output_type": "stream",
          "text": [
            "\u001b[32m[I 2021-08-17 02:23:26,567]\u001b[0m Trial 37 finished with value: 0.9 and parameters: {'C': 6, 'degree': 3}. Best is trial 2 with value: 0.9.\u001b[0m\n"
          ],
          "name": "stderr"
        },
        {
          "output_type": "stream",
          "text": [
            "ACC TRAINING:0.87125\n",
            "ACC VALID:0.9\n",
            "Rede Neural (C=6.000000):\n",
            "Rede Neural (degree=3.000000):\n"
          ],
          "name": "stdout"
        },
        {
          "output_type": "stream",
          "text": [
            "\u001b[32m[I 2021-08-17 02:23:30,757]\u001b[0m Trial 38 finished with value: 0.9 and parameters: {'C': 9, 'degree': 3}. Best is trial 2 with value: 0.9.\u001b[0m\n",
            "\u001b[32m[I 2021-08-17 02:23:30,893]\u001b[0m Trial 39 finished with value: 0.9 and parameters: {'C': 10, 'degree': 2}. Best is trial 2 with value: 0.9.\u001b[0m\n"
          ],
          "name": "stderr"
        },
        {
          "output_type": "stream",
          "text": [
            "ACC TRAINING:0.87\n",
            "ACC VALID:0.9\n",
            "Rede Neural (C=9.000000):\n",
            "Rede Neural (degree=3.000000):\n",
            "ACC TRAINING:0.8775\n",
            "ACC VALID:0.9\n",
            "Rede Neural (C=10.000000):\n",
            "Rede Neural (degree=2.000000):\n"
          ],
          "name": "stdout"
        }
      ]
    },
    {
      "cell_type": "code",
      "metadata": {
        "colab": {
          "base_uri": "https://localhost:8080/"
        },
        "id": "ws9Ir7W97Y9z",
        "outputId": "b048dee1-46b7-4597-edb6-4388c2580c19"
      },
      "source": [
        "#Exeutando o melhor modelo nos dados de validação\n",
        "#Trial 0 finished with value: 0.89 and parameters: {'C': 5, 'degree': 2}. Best is trial 0 with value: 0.89.\n",
        "\n",
        "\n",
        "#Construindo o modelo\n",
        "model =  SVC(C=10, degree=2, kernel='poly')\n",
        "model.fit(Xtrain, ytrain)\n",
        "\n",
        "#Testando o modelo\n",
        "ypred_test = model.predict(Xtest)\n",
        "ypred_train = model.predict(Xtrain)\n",
        "acc_test = accuracy_score(ytest, ypred_test)\n",
        "acc_train = accuracy_score(ytrain, ypred_train)\n",
        "\n",
        "print(\"ACC TRAINING:\" + str(acc_train))\n",
        "print(\"ACC TEST:\" + str(acc_test))"
      ],
      "execution_count": 33,
      "outputs": [
        {
          "output_type": "stream",
          "text": [
            "ACC TRAINING:0.8775\n",
            "ACC TEST:0.81\n"
          ],
          "name": "stdout"
        }
      ]
    },
    {
      "cell_type": "markdown",
      "metadata": {
        "id": "yhL1uOnexygD"
      },
      "source": [
        "##Diagnóstico"
      ]
    },
    {
      "cell_type": "markdown",
      "metadata": {
        "id": "9phI4nxRwe_r"
      },
      "source": [
        "> Nosso melhor resultado geral sobre os dados de teste ficou entre Random Forest, KNN e Rede Neural, todos com o mesmo resultado. \n",
        "\n",
        "> Escolhemos o KNN para o diagnóstico. Nossos dados são:\n",
        "* Número de vizinhos = 122 \n",
        "* Acurácia sobre dados de treinamento = 0.875\n",
        "* Acurácia sobre dados de teste = 0.82\n",
        "* Viés = 0.075\n",
        "* Variância = 0.055\n",
        "Portando, concluímos que temos Underfitting que é causado por um modelo pouco fiel aos dados de treinamento.\n",
        "\n",
        "\n"
      ]
    },
    {
      "cell_type": "code",
      "metadata": {
        "id": "K9t89D1d-WlW",
        "colab": {
          "base_uri": "https://localhost:8080/"
        },
        "outputId": "510fd3bf-48f0-4b64-f7a9-f913c83567f1"
      },
      "source": [
        "acc_test_list = []\n",
        "acc_train_list = []\n",
        "for i in range(1, 122):\n",
        "  #Construindo o modelo\n",
        "  model =  KNeighborsClassifier(n_neighbors=i)\n",
        "  model.fit(Xtrain, ytrain)\n",
        "\n",
        "  #Testando o modelo\n",
        "  ypred_test = model.predict(Xtest)\n",
        "  ypred_train = model.predict(Xtrain)\n",
        "  acc_test_list.append(accuracy_score(ytest, ypred_test))\n",
        "  acc_train_list.append(accuracy_score(ytrain, ypred_train))\n",
        "  print(\"\\n\\nTrying \", i, \" neighbors...\")\n",
        "  print(\"ACC TRAINING:\" + str(acc_train_list[i-1]))\n",
        "  print(\"ACC TEST:\" + str(acc_test_list[i-1]))"
      ],
      "execution_count": 47,
      "outputs": [
        {
          "output_type": "stream",
          "text": [
            "\n",
            "\n",
            "Trying  1  neighbors...\n",
            "ACC TRAINING:0.98125\n",
            "ACC TEST:0.84\n",
            "\n",
            "\n",
            "Trying  2  neighbors...\n",
            "ACC TRAINING:0.91625\n",
            "ACC TEST:0.83\n",
            "\n",
            "\n",
            "Trying  3  neighbors...\n",
            "ACC TRAINING:0.91\n",
            "ACC TEST:0.85\n",
            "\n",
            "\n",
            "Trying  4  neighbors...\n",
            "ACC TRAINING:0.89125\n",
            "ACC TEST:0.83\n",
            "\n",
            "\n",
            "Trying  5  neighbors...\n",
            "ACC TRAINING:0.8925\n",
            "ACC TEST:0.83\n",
            "\n",
            "\n",
            "Trying  6  neighbors...\n",
            "ACC TRAINING:0.8875\n",
            "ACC TEST:0.84\n",
            "\n",
            "\n",
            "Trying  7  neighbors...\n",
            "ACC TRAINING:0.88625\n",
            "ACC TEST:0.84\n",
            "\n",
            "\n",
            "Trying  8  neighbors...\n",
            "ACC TRAINING:0.885\n",
            "ACC TEST:0.85\n",
            "\n",
            "\n",
            "Trying  9  neighbors...\n",
            "ACC TRAINING:0.88625\n",
            "ACC TEST:0.84\n",
            "\n",
            "\n",
            "Trying  10  neighbors...\n",
            "ACC TRAINING:0.88375\n",
            "ACC TEST:0.84\n",
            "\n",
            "\n",
            "Trying  11  neighbors...\n",
            "ACC TRAINING:0.88\n",
            "ACC TEST:0.85\n",
            "\n",
            "\n",
            "Trying  12  neighbors...\n",
            "ACC TRAINING:0.88\n",
            "ACC TEST:0.84\n",
            "\n",
            "\n",
            "Trying  13  neighbors...\n",
            "ACC TRAINING:0.88\n",
            "ACC TEST:0.85\n",
            "\n",
            "\n",
            "Trying  14  neighbors...\n",
            "ACC TRAINING:0.88\n",
            "ACC TEST:0.84\n",
            "\n",
            "\n",
            "Trying  15  neighbors...\n",
            "ACC TRAINING:0.88125\n",
            "ACC TEST:0.84\n",
            "\n",
            "\n",
            "Trying  16  neighbors...\n",
            "ACC TRAINING:0.88125\n",
            "ACC TEST:0.84\n",
            "\n",
            "\n",
            "Trying  17  neighbors...\n",
            "ACC TRAINING:0.87875\n",
            "ACC TEST:0.85\n",
            "\n",
            "\n",
            "Trying  18  neighbors...\n",
            "ACC TRAINING:0.88\n",
            "ACC TEST:0.84\n",
            "\n",
            "\n",
            "Trying  19  neighbors...\n",
            "ACC TRAINING:0.8775\n",
            "ACC TEST:0.84\n",
            "\n",
            "\n",
            "Trying  20  neighbors...\n",
            "ACC TRAINING:0.88\n",
            "ACC TEST:0.84\n",
            "\n",
            "\n",
            "Trying  21  neighbors...\n",
            "ACC TRAINING:0.88\n",
            "ACC TEST:0.84\n",
            "\n",
            "\n",
            "Trying  22  neighbors...\n",
            "ACC TRAINING:0.87625\n",
            "ACC TEST:0.84\n",
            "\n",
            "\n",
            "Trying  23  neighbors...\n",
            "ACC TRAINING:0.87625\n",
            "ACC TEST:0.85\n",
            "\n",
            "\n",
            "Trying  24  neighbors...\n",
            "ACC TRAINING:0.875\n",
            "ACC TEST:0.84\n",
            "\n",
            "\n",
            "Trying  25  neighbors...\n",
            "ACC TRAINING:0.87875\n",
            "ACC TEST:0.85\n",
            "\n",
            "\n",
            "Trying  26  neighbors...\n",
            "ACC TRAINING:0.87625\n",
            "ACC TEST:0.85\n",
            "\n",
            "\n",
            "Trying  27  neighbors...\n",
            "ACC TRAINING:0.87875\n",
            "ACC TEST:0.84\n",
            "\n",
            "\n",
            "Trying  28  neighbors...\n",
            "ACC TRAINING:0.87625\n",
            "ACC TEST:0.82\n",
            "\n",
            "\n",
            "Trying  29  neighbors...\n",
            "ACC TRAINING:0.875\n",
            "ACC TEST:0.83\n",
            "\n",
            "\n",
            "Trying  30  neighbors...\n",
            "ACC TRAINING:0.875\n",
            "ACC TEST:0.83\n",
            "\n",
            "\n",
            "Trying  31  neighbors...\n",
            "ACC TRAINING:0.87625\n",
            "ACC TEST:0.83\n",
            "\n",
            "\n",
            "Trying  32  neighbors...\n",
            "ACC TRAINING:0.875\n",
            "ACC TEST:0.82\n",
            "\n",
            "\n",
            "Trying  33  neighbors...\n",
            "ACC TRAINING:0.87625\n",
            "ACC TEST:0.82\n",
            "\n",
            "\n",
            "Trying  34  neighbors...\n",
            "ACC TRAINING:0.875\n",
            "ACC TEST:0.82\n",
            "\n",
            "\n",
            "Trying  35  neighbors...\n",
            "ACC TRAINING:0.875\n",
            "ACC TEST:0.82\n",
            "\n",
            "\n",
            "Trying  36  neighbors...\n",
            "ACC TRAINING:0.875\n",
            "ACC TEST:0.82\n",
            "\n",
            "\n",
            "Trying  37  neighbors...\n",
            "ACC TRAINING:0.87375\n",
            "ACC TEST:0.82\n",
            "\n",
            "\n",
            "Trying  38  neighbors...\n",
            "ACC TRAINING:0.875\n",
            "ACC TEST:0.82\n",
            "\n",
            "\n",
            "Trying  39  neighbors...\n",
            "ACC TRAINING:0.87375\n",
            "ACC TEST:0.82\n",
            "\n",
            "\n",
            "Trying  40  neighbors...\n",
            "ACC TRAINING:0.87375\n",
            "ACC TEST:0.83\n",
            "\n",
            "\n",
            "Trying  41  neighbors...\n",
            "ACC TRAINING:0.875\n",
            "ACC TEST:0.83\n",
            "\n",
            "\n",
            "Trying  42  neighbors...\n",
            "ACC TRAINING:0.87375\n",
            "ACC TEST:0.83\n",
            "\n",
            "\n",
            "Trying  43  neighbors...\n",
            "ACC TRAINING:0.875\n",
            "ACC TEST:0.83\n",
            "\n",
            "\n",
            "Trying  44  neighbors...\n",
            "ACC TRAINING:0.87375\n",
            "ACC TEST:0.83\n",
            "\n",
            "\n",
            "Trying  45  neighbors...\n",
            "ACC TRAINING:0.875\n",
            "ACC TEST:0.83\n",
            "\n",
            "\n",
            "Trying  46  neighbors...\n",
            "ACC TRAINING:0.8725\n",
            "ACC TEST:0.83\n",
            "\n",
            "\n",
            "Trying  47  neighbors...\n",
            "ACC TRAINING:0.875\n",
            "ACC TEST:0.83\n",
            "\n",
            "\n",
            "Trying  48  neighbors...\n",
            "ACC TRAINING:0.875\n",
            "ACC TEST:0.82\n",
            "\n",
            "\n",
            "Trying  49  neighbors...\n",
            "ACC TRAINING:0.8775\n",
            "ACC TEST:0.83\n",
            "\n",
            "\n",
            "Trying  50  neighbors...\n",
            "ACC TRAINING:0.87625\n",
            "ACC TEST:0.83\n",
            "\n",
            "\n",
            "Trying  51  neighbors...\n",
            "ACC TRAINING:0.8775\n",
            "ACC TEST:0.84\n",
            "\n",
            "\n",
            "Trying  52  neighbors...\n",
            "ACC TRAINING:0.875\n",
            "ACC TEST:0.85\n",
            "\n",
            "\n",
            "Trying  53  neighbors...\n",
            "ACC TRAINING:0.87625\n",
            "ACC TEST:0.85\n",
            "\n",
            "\n",
            "Trying  54  neighbors...\n",
            "ACC TRAINING:0.87625\n",
            "ACC TEST:0.85\n",
            "\n",
            "\n",
            "Trying  55  neighbors...\n",
            "ACC TRAINING:0.87625\n",
            "ACC TEST:0.85\n",
            "\n",
            "\n",
            "Trying  56  neighbors...\n",
            "ACC TRAINING:0.875\n",
            "ACC TEST:0.85\n",
            "\n",
            "\n",
            "Trying  57  neighbors...\n",
            "ACC TRAINING:0.87625\n",
            "ACC TEST:0.85\n",
            "\n",
            "\n",
            "Trying  58  neighbors...\n",
            "ACC TRAINING:0.87375\n",
            "ACC TEST:0.84\n",
            "\n",
            "\n",
            "Trying  59  neighbors...\n",
            "ACC TRAINING:0.87625\n",
            "ACC TEST:0.85\n",
            "\n",
            "\n",
            "Trying  60  neighbors...\n",
            "ACC TRAINING:0.875\n",
            "ACC TEST:0.85\n",
            "\n",
            "\n",
            "Trying  61  neighbors...\n",
            "ACC TRAINING:0.875\n",
            "ACC TEST:0.85\n",
            "\n",
            "\n",
            "Trying  62  neighbors...\n",
            "ACC TRAINING:0.8725\n",
            "ACC TEST:0.84\n",
            "\n",
            "\n",
            "Trying  63  neighbors...\n",
            "ACC TRAINING:0.875\n",
            "ACC TEST:0.85\n",
            "\n",
            "\n",
            "Trying  64  neighbors...\n",
            "ACC TRAINING:0.87625\n",
            "ACC TEST:0.84\n",
            "\n",
            "\n",
            "Trying  65  neighbors...\n",
            "ACC TRAINING:0.875\n",
            "ACC TEST:0.85\n",
            "\n",
            "\n",
            "Trying  66  neighbors...\n",
            "ACC TRAINING:0.875\n",
            "ACC TEST:0.83\n",
            "\n",
            "\n",
            "Trying  67  neighbors...\n",
            "ACC TRAINING:0.87625\n",
            "ACC TEST:0.84\n",
            "\n",
            "\n",
            "Trying  68  neighbors...\n",
            "ACC TRAINING:0.875\n",
            "ACC TEST:0.84\n",
            "\n",
            "\n",
            "Trying  69  neighbors...\n",
            "ACC TRAINING:0.875\n",
            "ACC TEST:0.84\n",
            "\n",
            "\n",
            "Trying  70  neighbors...\n",
            "ACC TRAINING:0.875\n",
            "ACC TEST:0.83\n",
            "\n",
            "\n",
            "Trying  71  neighbors...\n",
            "ACC TRAINING:0.87625\n",
            "ACC TEST:0.84\n",
            "\n",
            "\n",
            "Trying  72  neighbors...\n",
            "ACC TRAINING:0.8775\n",
            "ACC TEST:0.82\n",
            "\n",
            "\n",
            "Trying  73  neighbors...\n",
            "ACC TRAINING:0.8775\n",
            "ACC TEST:0.83\n",
            "\n",
            "\n",
            "Trying  74  neighbors...\n",
            "ACC TRAINING:0.87625\n",
            "ACC TEST:0.81\n",
            "\n",
            "\n",
            "Trying  75  neighbors...\n",
            "ACC TRAINING:0.87875\n",
            "ACC TEST:0.81\n",
            "\n",
            "\n",
            "Trying  76  neighbors...\n",
            "ACC TRAINING:0.87625\n",
            "ACC TEST:0.81\n",
            "\n",
            "\n",
            "Trying  77  neighbors...\n",
            "ACC TRAINING:0.875\n",
            "ACC TEST:0.81\n",
            "\n",
            "\n",
            "Trying  78  neighbors...\n",
            "ACC TRAINING:0.875\n",
            "ACC TEST:0.81\n",
            "\n",
            "\n",
            "Trying  79  neighbors...\n",
            "ACC TRAINING:0.87625\n",
            "ACC TEST:0.81\n",
            "\n",
            "\n",
            "Trying  80  neighbors...\n",
            "ACC TRAINING:0.87375\n",
            "ACC TEST:0.81\n",
            "\n",
            "\n",
            "Trying  81  neighbors...\n",
            "ACC TRAINING:0.8725\n",
            "ACC TEST:0.81\n",
            "\n",
            "\n",
            "Trying  82  neighbors...\n",
            "ACC TRAINING:0.87375\n",
            "ACC TEST:0.81\n",
            "\n",
            "\n",
            "Trying  83  neighbors...\n",
            "ACC TRAINING:0.875\n",
            "ACC TEST:0.81\n",
            "\n",
            "\n",
            "Trying  84  neighbors...\n",
            "ACC TRAINING:0.87625\n",
            "ACC TEST:0.81\n",
            "\n",
            "\n",
            "Trying  85  neighbors...\n",
            "ACC TRAINING:0.875\n",
            "ACC TEST:0.81\n",
            "\n",
            "\n",
            "Trying  86  neighbors...\n",
            "ACC TRAINING:0.87375\n",
            "ACC TEST:0.81\n",
            "\n",
            "\n",
            "Trying  87  neighbors...\n",
            "ACC TRAINING:0.87375\n",
            "ACC TEST:0.81\n",
            "\n",
            "\n",
            "Trying  88  neighbors...\n",
            "ACC TRAINING:0.875\n",
            "ACC TEST:0.81\n",
            "\n",
            "\n",
            "Trying  89  neighbors...\n",
            "ACC TRAINING:0.875\n",
            "ACC TEST:0.81\n",
            "\n",
            "\n",
            "Trying  90  neighbors...\n",
            "ACC TRAINING:0.875\n",
            "ACC TEST:0.81\n",
            "\n",
            "\n",
            "Trying  91  neighbors...\n",
            "ACC TRAINING:0.87625\n",
            "ACC TEST:0.81\n",
            "\n",
            "\n",
            "Trying  92  neighbors...\n",
            "ACC TRAINING:0.875\n",
            "ACC TEST:0.82\n",
            "\n",
            "\n",
            "Trying  93  neighbors...\n",
            "ACC TRAINING:0.875\n",
            "ACC TEST:0.82\n",
            "\n",
            "\n",
            "Trying  94  neighbors...\n",
            "ACC TRAINING:0.87375\n",
            "ACC TEST:0.81\n",
            "\n",
            "\n",
            "Trying  95  neighbors...\n",
            "ACC TRAINING:0.87375\n",
            "ACC TEST:0.81\n",
            "\n",
            "\n",
            "Trying  96  neighbors...\n",
            "ACC TRAINING:0.87375\n",
            "ACC TEST:0.81\n",
            "\n",
            "\n",
            "Trying  97  neighbors...\n",
            "ACC TRAINING:0.875\n",
            "ACC TEST:0.83\n",
            "\n",
            "\n",
            "Trying  98  neighbors...\n",
            "ACC TRAINING:0.87375\n",
            "ACC TEST:0.83\n",
            "\n",
            "\n",
            "Trying  99  neighbors...\n",
            "ACC TRAINING:0.87375\n",
            "ACC TEST:0.83\n",
            "\n",
            "\n",
            "Trying  100  neighbors...\n",
            "ACC TRAINING:0.87625\n",
            "ACC TEST:0.81\n",
            "\n",
            "\n",
            "Trying  101  neighbors...\n",
            "ACC TRAINING:0.87375\n",
            "ACC TEST:0.81\n",
            "\n",
            "\n",
            "Trying  102  neighbors...\n",
            "ACC TRAINING:0.875\n",
            "ACC TEST:0.81\n",
            "\n",
            "\n",
            "Trying  103  neighbors...\n",
            "ACC TRAINING:0.87375\n",
            "ACC TEST:0.81\n",
            "\n",
            "\n",
            "Trying  104  neighbors...\n",
            "ACC TRAINING:0.87375\n",
            "ACC TEST:0.81\n",
            "\n",
            "\n",
            "Trying  105  neighbors...\n",
            "ACC TRAINING:0.87375\n",
            "ACC TEST:0.82\n",
            "\n",
            "\n",
            "Trying  106  neighbors...\n",
            "ACC TRAINING:0.87375\n",
            "ACC TEST:0.81\n",
            "\n",
            "\n",
            "Trying  107  neighbors...\n",
            "ACC TRAINING:0.87375\n",
            "ACC TEST:0.82\n",
            "\n",
            "\n",
            "Trying  108  neighbors...\n",
            "ACC TRAINING:0.875\n",
            "ACC TEST:0.81\n",
            "\n",
            "\n",
            "Trying  109  neighbors...\n",
            "ACC TRAINING:0.87375\n",
            "ACC TEST:0.81\n",
            "\n",
            "\n",
            "Trying  110  neighbors...\n",
            "ACC TRAINING:0.8725\n",
            "ACC TEST:0.81\n",
            "\n",
            "\n",
            "Trying  111  neighbors...\n",
            "ACC TRAINING:0.87375\n",
            "ACC TEST:0.81\n",
            "\n",
            "\n",
            "Trying  112  neighbors...\n",
            "ACC TRAINING:0.875\n",
            "ACC TEST:0.81\n",
            "\n",
            "\n",
            "Trying  113  neighbors...\n",
            "ACC TRAINING:0.875\n",
            "ACC TEST:0.81\n",
            "\n",
            "\n",
            "Trying  114  neighbors...\n",
            "ACC TRAINING:0.875\n",
            "ACC TEST:0.81\n",
            "\n",
            "\n",
            "Trying  115  neighbors...\n",
            "ACC TRAINING:0.875\n",
            "ACC TEST:0.82\n",
            "\n",
            "\n",
            "Trying  116  neighbors...\n",
            "ACC TRAINING:0.875\n",
            "ACC TEST:0.81\n",
            "\n",
            "\n",
            "Trying  117  neighbors...\n",
            "ACC TRAINING:0.875\n",
            "ACC TEST:0.82\n",
            "\n",
            "\n",
            "Trying  118  neighbors...\n",
            "ACC TRAINING:0.875\n",
            "ACC TEST:0.82\n",
            "\n",
            "\n",
            "Trying  119  neighbors...\n",
            "ACC TRAINING:0.875\n",
            "ACC TEST:0.82\n",
            "\n",
            "\n",
            "Trying  120  neighbors...\n",
            "ACC TRAINING:0.875\n",
            "ACC TEST:0.82\n",
            "\n",
            "\n",
            "Trying  121  neighbors...\n",
            "ACC TRAINING:0.875\n",
            "ACC TEST:0.82\n"
          ],
          "name": "stdout"
        }
      ]
    },
    {
      "cell_type": "code",
      "metadata": {
        "colab": {
          "base_uri": "https://localhost:8080/",
          "height": 282
        },
        "id": "QvIG_qOpEvjx",
        "outputId": "bb83a124-4242-4989-a295-911f97a00721"
      },
      "source": [
        "# plt.subplot(1, 2, 1) # row 1, col 2 index 1\n",
        "plt.scatter(list(range(1, 122)), acc_test_list)\n",
        "# plt.subplot(1, 2, 2) # row 1, col 2 index 1\n",
        "plt.scatter(list(range(1, 122)), acc_train_list)"
      ],
      "execution_count": 60,
      "outputs": [
        {
          "output_type": "execute_result",
          "data": {
            "text/plain": [
              "<matplotlib.collections.PathCollection at 0x7ff9d6da0e90>"
            ]
          },
          "metadata": {
            "tags": []
          },
          "execution_count": 60
        },
        {
          "output_type": "display_data",
          "data": {
            "image/png": "[encoded data removed]",
            "text/plain": [
              "<Figure size 432x288 with 1 Axes>"
            ]
          },
          "metadata": {
            "tags": [],
            "needs_background": "light"
          }
        }
      ]
    },
    {
      "cell_type": "markdown",
      "metadata": {
        "id": "oH5d0-kLCHXz"
      },
      "source": [
        "Como podemos ver no gráfico em laranja, a medida que diminuimos o número de vizinhos a acurácia sobre os dados de treinamento tende a crescer. Com 3 vizinhos, possuímos o resultado:\n",
        "* ACC TRAINING: 0.91\n",
        "* ACC VALID: 0.85\n",
        "\n",
        "Apesar de diminuirmos o viés, aumentamos a variância em 0.005, pois melhoramos mais sobre os dados de treinamento que sobre os dados de teste. É importante salientar que dependendo do tipo dos dados, se estão mais próximos da amostra de treinamento, ou não, vale a pena investir num dado com viés menor que a variância."
      ]
    },
    {
      "cell_type": "markdown",
      "metadata": {
        "id": "gKBrO1wzJWfR"
      },
      "source": [
        "#Bônus (Auto Sklearn)"
      ]
    },
    {
      "cell_type": "code",
      "metadata": {
        "id": "z_DOnfkiJ7tO"
      },
      "source": [
        "from autosklearn.classification import AutoSklearnClassifier\n",
        "#ASKL (C-Support Vector Classification)\n",
        "#Construindo o modelo\n",
        "model =  AutoSklearnClassifier()\n",
        "model.fit(Xtrain, ytrain)\n",
        "model.cv_results_\n",
        "model.sprint_statistics()"
      ],
      "execution_count": null,
      "outputs": []
    },
    {
      "cell_type": "code",
      "metadata": {
        "id": "n6gDsgmYy35x"
      },
      "source": [
        "print(model.sprint_statistics())"
      ],
      "execution_count": null,
      "outputs": []
    }
  ]
}